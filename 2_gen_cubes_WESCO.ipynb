{
 "cells": [
  {
   "cell_type": "code",
   "execution_count": 35,
   "metadata": {
    "execution": {
     "iopub.execute_input": "2024-07-20T04:20:44.178748Z",
     "iopub.status.busy": "2024-07-20T04:20:44.178418Z",
     "iopub.status.idle": "2024-07-20T04:20:44.935541Z",
     "shell.execute_reply": "2024-07-20T04:20:44.934614Z"
    }
   },
   "outputs": [],
   "source": [
    "import pandas as pd\n",
    "import numpy as np\n",
    "import json\n",
    "from tqdm import tqdm\n",
    "import networkx as nx\n",
    "import ast\n"
   ]
  },
  {
   "cell_type": "code",
   "execution_count": 36,
   "metadata": {},
   "outputs": [],
   "source": [
    "PARENT = \"\"\n",
    "DATA_FOLDER = PARENT + \"data_WESCO/\"\n",
    "DATA_FOLDER_CACHE = DATA_FOLDER + 'cache/'\n",
    "VENUE_CONFIG_FILE = DATA_FOLDER_CACHE + \"WESCO_config.json\"\n",
    "VENUE = \"WESCO\""
   ]
  },
  {
   "cell_type": "code",
   "execution_count": 37,
   "metadata": {
    "execution": {
     "iopub.execute_input": "2024-07-20T04:20:44.939184Z",
     "iopub.status.busy": "2024-07-20T04:20:44.938847Z",
     "iopub.status.idle": "2024-07-20T04:20:44.944652Z",
     "shell.execute_reply": "2024-07-20T04:20:44.943883Z"
    }
   },
   "outputs": [],
   "source": [
    "def read_json_config(file_path):\n",
    "    with open(file_path, 'r') as file:\n",
    "        data = json.load(file)\n",
    "    return data\n",
    "\n",
    "config = read_json_config(VENUE_CONFIG_FILE)"
   ]
  },
  {
   "cell_type": "code",
   "execution_count": 38,
   "metadata": {
    "execution": {
     "iopub.execute_input": "2024-07-20T04:20:44.947543Z",
     "iopub.status.busy": "2024-07-20T04:20:44.947267Z",
     "iopub.status.idle": "2024-07-20T04:20:44.954892Z",
     "shell.execute_reply": "2024-07-20T04:20:44.954058Z"
    }
   },
   "outputs": [
    {
     "data": {
      "text/plain": [
       "{100: {'row': 3, 'column': 3},\n",
       " 101: {'row': 6, 'column': 5},\n",
       " 102: {'row': 6, 'column': 11},\n",
       " 103: {'row': 0, 'column': 24}}"
      ]
     },
     "execution_count": 38,
     "metadata": {},
     "output_type": "execute_result"
    }
   ],
   "source": [
    "sensors_unparsed = config[VENUE][\"placements\"]\n",
    "sensors = {int(key): value for key, value in sensors_unparsed.items()}\n",
    "sensors"
   ]
  },
  {
   "cell_type": "code",
   "execution_count": 39,
   "metadata": {
    "execution": {
     "iopub.execute_input": "2024-07-20T04:20:44.993513Z",
     "iopub.status.busy": "2024-07-20T04:20:44.992701Z",
     "iopub.status.idle": "2024-07-20T04:20:45.026206Z",
     "shell.execute_reply": "2024-07-20T04:20:45.025411Z"
    }
   },
   "outputs": [],
   "source": [
    "df = pd.read_csv(DATA_FOLDER_CACHE + VENUE + '.csv', index_col=0)\n",
    "#df = df.dropna()"
   ]
  },
  {
   "cell_type": "code",
   "execution_count": 40,
   "metadata": {
    "execution": {
     "iopub.execute_input": "2024-07-20T04:20:45.029121Z",
     "iopub.status.busy": "2024-07-20T04:20:45.028864Z",
     "iopub.status.idle": "2024-07-20T04:20:45.041102Z",
     "shell.execute_reply": "2024-07-20T04:20:45.040292Z"
    }
   },
   "outputs": [
    {
     "name": "stdout",
     "output_type": "stream",
     "text": [
      "<class 'pandas.core.frame.DataFrame'>\n",
      "Index: 4409 entries, 0 to 4408\n",
      "Data columns (total 9 columns):\n",
      " #   Column         Non-Null Count  Dtype  \n",
      "---  ------         --------------  -----  \n",
      " 0   Date           4409 non-null   object \n",
      " 1   pm2_5_avg_100  4409 non-null   float64\n",
      " 2   pm2_5_avg_101  4409 non-null   float64\n",
      " 3   pm2_5_avg_102  4409 non-null   float64\n",
      " 4   pm2_5_avg_103  4409 non-null   float64\n",
      " 5   status_100     4409 non-null   int64  \n",
      " 6   status_101     4409 non-null   int64  \n",
      " 7   status_102     4409 non-null   int64  \n",
      " 8   status_103     4409 non-null   int64  \n",
      "dtypes: float64(4), int64(4), object(1)\n",
      "memory usage: 344.5+ KB\n"
     ]
    }
   ],
   "source": [
    "df.info()"
   ]
  },
  {
   "cell_type": "code",
   "execution_count": 41,
   "metadata": {
    "execution": {
     "iopub.execute_input": "2024-07-20T04:20:45.044019Z",
     "iopub.status.busy": "2024-07-20T04:20:45.043768Z",
     "iopub.status.idle": "2024-07-20T04:20:45.047203Z",
     "shell.execute_reply": "2024-07-20T04:20:45.046312Z"
    }
   },
   "outputs": [],
   "source": [
    "#new features from Date -> minute, hour, month, year, dayofyear (1-365)"
   ]
  },
  {
   "cell_type": "code",
   "execution_count": 42,
   "metadata": {
    "execution": {
     "iopub.execute_input": "2024-07-20T04:20:45.050112Z",
     "iopub.status.busy": "2024-07-20T04:20:45.049873Z",
     "iopub.status.idle": "2024-07-20T04:20:45.077748Z",
     "shell.execute_reply": "2024-07-20T04:20:45.076845Z"
    }
   },
   "outputs": [
    {
     "name": "stdout",
     "output_type": "stream",
     "text": [
      "<class 'pandas.core.frame.DataFrame'>\n",
      "Index: 4409 entries, 0 to 4408\n",
      "Data columns (total 12 columns):\n",
      " #   Column         Non-Null Count  Dtype         \n",
      "---  ------         --------------  -----         \n",
      " 0   Date           4409 non-null   datetime64[ns]\n",
      " 1   pm2_5_avg_100  4409 non-null   float64       \n",
      " 2   pm2_5_avg_101  4409 non-null   float64       \n",
      " 3   pm2_5_avg_102  4409 non-null   float64       \n",
      " 4   pm2_5_avg_103  4409 non-null   float64       \n",
      " 5   status_100     4409 non-null   int64         \n",
      " 6   status_101     4409 non-null   int64         \n",
      " 7   status_102     4409 non-null   int64         \n",
      " 8   status_103     4409 non-null   int64         \n",
      " 9   hour           4409 non-null   int64         \n",
      " 10  minute         4409 non-null   int64         \n",
      " 11  dayoftheyear   4409 non-null   int64         \n",
      "dtypes: datetime64[ns](1), float64(4), int64(7)\n",
      "memory usage: 447.8 KB\n"
     ]
    }
   ],
   "source": [
    "df['Date'] = pd.to_datetime(df['Date'])\n",
    "df['hour'] = df['Date'].dt.hour\n",
    "df['minute'] = df['Date'].dt.minute\n",
    "df['dayoftheyear'] = df['Date'].dt.dayofyear\n",
    "df['hour'] = df['hour'].astype('int')\n",
    "df['minute'] = df['minute'].astype('int')\n",
    "df['dayoftheyear'] = df['dayoftheyear'].astype('int')\n",
    "df = df.sort_values(['Date']) #already sorted\n",
    "df.info()"
   ]
  },
  {
   "cell_type": "code",
   "execution_count": 43,
   "metadata": {
    "execution": {
     "iopub.execute_input": "2024-07-20T04:20:45.093889Z",
     "iopub.status.busy": "2024-07-20T04:20:45.093647Z",
     "iopub.status.idle": "2024-07-20T04:20:45.119962Z",
     "shell.execute_reply": "2024-07-20T04:20:45.119042Z"
    }
   },
   "outputs": [
    {
     "name": "stdout",
     "output_type": "stream",
     "text": [
      "Dataset has data from 2024-04-02 17:00:00 to 2024-07-24 22:45:00\n"
     ]
    }
   ],
   "source": [
    "dataStartDate = sorted(df['Date'])[0]\n",
    "dataEndDate = sorted(df['Date'])[-1]\n",
    "print(f\"Dataset has data from {dataStartDate} to {dataEndDate}\")"
   ]
  },
  {
   "cell_type": "code",
   "execution_count": 44,
   "metadata": {
    "execution": {
     "iopub.execute_input": "2024-07-20T04:20:45.122778Z",
     "iopub.status.busy": "2024-07-20T04:20:45.122530Z",
     "iopub.status.idle": "2024-07-20T04:20:45.126750Z",
     "shell.execute_reply": "2024-07-20T04:20:45.125863Z"
    }
   },
   "outputs": [],
   "source": [
    "h, w = config[VENUE][\"height\"], config[VENUE][\"width\"]\n",
    "vents = config[VENUE][\"vents\"]\n"
   ]
  },
  {
   "cell_type": "code",
   "execution_count": 45,
   "metadata": {},
   "outputs": [],
   "source": [
    "mask_hvac = np.zeros((h, w), dtype=int)\n",
    "\n",
    "for v in vents:\n",
    "    mask_hvac[vents[v].get(\"row\"), vents[v].get(\"column\")] = 1 if vents[v].get('direction') == \"down\" else 2"
   ]
  },
  {
   "cell_type": "code",
   "execution_count": 46,
   "metadata": {},
   "outputs": [
    {
     "data": {
      "text/plain": [
       "array([[1, 0, 0, 2, 2, 0, 0, 0, 0, 0, 0, 0, 0, 0, 0, 0, 0, 0, 0, 0, 0, 0,\n",
       "        2, 0, 2],\n",
       "       [0, 1, 1, 2, 0, 0, 1, 0, 1, 0, 0, 0, 0, 0, 0, 0, 0, 0, 0, 0, 0, 0,\n",
       "        0, 1, 0],\n",
       "       [1, 0, 0, 0, 0, 2, 1, 0, 2, 0, 1, 0, 1, 2, 0, 1, 0, 1, 2, 1, 0, 0,\n",
       "        0, 0, 0],\n",
       "       [0, 0, 0, 0, 0, 1, 0, 2, 2, 0, 0, 0, 0, 0, 0, 0, 0, 0, 0, 0, 0, 0,\n",
       "        0, 1, 0],\n",
       "       [1, 1, 1, 2, 0, 0, 2, 0, 0, 0, 1, 0, 1, 2, 0, 1, 0, 1, 2, 1, 0, 0,\n",
       "        0, 0, 0],\n",
       "       [0, 0, 0, 2, 0, 0, 0, 0, 0, 0, 0, 0, 0, 0, 0, 0, 0, 0, 0, 0, 0, 0,\n",
       "        2, 1, 2],\n",
       "       [1, 0, 1, 1, 0, 1, 1, 1, 0, 1, 1, 0, 1, 1, 0, 1, 1, 0, 1, 2, 0, 0,\n",
       "        1, 0, 2],\n",
       "       [0, 0, 0, 0, 0, 0, 0, 0, 0, 0, 0, 0, 0, 0, 0, 0, 0, 0, 0, 1, 0, 1,\n",
       "        1, 0, 1]])"
      ]
     },
     "execution_count": 46,
     "metadata": {},
     "output_type": "execute_result"
    }
   ],
   "source": [
    "mask_hvac"
   ]
  },
  {
   "cell_type": "code",
   "execution_count": 47,
   "metadata": {},
   "outputs": [],
   "source": [
    "mapCells = []\n",
    "\n",
    "for i in range(h):\n",
    "    for j in range(w):\n",
    "        mapCells.append(\n",
    "            {\n",
    "                \"row\": i,\n",
    "                \"column\": j\n",
    "            }\n",
    "        )"
   ]
  },
  {
   "cell_type": "code",
   "execution_count": 48,
   "metadata": {},
   "outputs": [],
   "source": [
    "def add_walls(grid_graph):\n",
    "    with open(DATA_FOLDER_CACHE + 'walls.txt', 'r') as file:\n",
    "        lines = file.readlines()\n",
    "        filtered_lines = [l for l in lines if \"#\" not in l] \n",
    "        edges_to_remove = [ast.literal_eval(line.strip()) for line in filtered_lines]\n",
    "\n",
    "    for n1, n2 in edges_to_remove:\n",
    "        grid_graph.remove_edge(n1, n2)\n",
    "\n",
    "grid_graph = nx.grid_2d_graph(8, 25)  \n",
    "\n",
    "for u, v in grid_graph.edges():\n",
    "        grid_graph[u][v]['weight'] = 1\n",
    "\n",
    "add_walls(grid_graph)"
   ]
  },
  {
   "cell_type": "code",
   "execution_count": 49,
   "metadata": {},
   "outputs": [],
   "source": [
    "def get_distance(source, target):\n",
    "    \n",
    "    try:\n",
    "        distance = nx.shortest_path_length(grid_graph, source=source, target=target, weight='weight')\n",
    "    except nx.NetworkXNoPath:\n",
    "        distance = 100\n",
    "\n",
    "    return distance"
   ]
  },
  {
   "cell_type": "code",
   "execution_count": 50,
   "metadata": {
    "execution": {
     "iopub.execute_input": "2024-07-20T04:20:45.147534Z",
     "iopub.status.busy": "2024-07-20T04:20:45.147261Z",
     "iopub.status.idle": "2024-07-20T04:20:45.158807Z",
     "shell.execute_reply": "2024-07-20T04:20:45.157707Z"
    }
   },
   "outputs": [],
   "source": [
    "sensorDistanceMap = { }\n",
    "\n",
    "for i in [1,2,3,4]:\n",
    "    sensorDistanceMap[i] = {\n",
    "        'sensorID': np.zeros((h, w), dtype='int'),\n",
    "        'distance': np.zeros((h, w), dtype='int'),\n",
    "    }\n",
    "\n",
    "for cell in mapCells:\n",
    "    distances = []\n",
    "    for currentSensorID, sensor in sensors.items():\n",
    "        distances.append((\n",
    "                get_distance(\n",
    "                    (sensor['row'], sensor['column']),\n",
    "                    (cell['row'], cell['column'])\n",
    "                ),\n",
    "                currentSensorID\n",
    "            ))\n",
    "    distances.sort()        \n",
    "    k = 1\n",
    "    for currentSensorDistance, currentSensorID in distances:\n",
    "        sensorDistanceMap[k]['sensorID'][cell['row']][cell['column']] = currentSensorID\n",
    "        sensorDistanceMap[k]['distance'][cell['row']][cell['column']] = currentSensorDistance\n",
    "        k += 1"
   ]
  },
  {
   "cell_type": "code",
   "execution_count": 51,
   "metadata": {
    "execution": {
     "iopub.execute_input": "2024-07-20T04:20:45.161976Z",
     "iopub.status.busy": "2024-07-20T04:20:45.161724Z",
     "iopub.status.idle": "2024-07-20T04:20:45.187071Z",
     "shell.execute_reply": "2024-07-20T04:20:45.186265Z"
    }
   },
   "outputs": [
    {
     "data": {
      "text/plain": [
       "{1: {'sensorID': array([[100, 100, 100, 100, 100, 100, 100, 100, 100, 102, 102, 102, 102,\n",
       "          102, 102, 102, 102, 103, 103, 103, 103, 103, 103, 103, 103],\n",
       "         [100, 100, 100, 100, 100, 100, 100, 100, 100, 102, 102, 102, 102,\n",
       "          102, 102, 102, 102, 103, 103, 103, 103, 103, 103, 103, 103],\n",
       "         [100, 100, 100, 100, 100, 100, 100, 100, 100, 102, 102, 102, 102,\n",
       "          102, 102, 102, 102, 103, 103, 103, 103, 103, 103, 103, 103],\n",
       "         [100, 100, 100, 100, 101, 101, 101, 101, 101, 102, 102, 102, 102,\n",
       "          102, 102, 102, 102, 102, 103, 103, 103, 103, 103, 103, 103],\n",
       "         [100, 100, 100, 100, 101, 101, 101, 101, 101, 102, 102, 102, 102,\n",
       "          102, 102, 102, 102, 102, 102, 103, 103, 103, 103, 103, 103],\n",
       "         [100, 100, 100, 100, 101, 101, 101, 101, 101, 102, 102, 102, 102,\n",
       "          102, 102, 102, 102, 102, 102, 102, 102, 102, 103, 103, 103],\n",
       "         [100, 100, 100, 100, 101, 101, 101, 101, 101, 102, 102, 102, 102,\n",
       "          102, 102, 102, 102, 102, 102, 102, 103, 103, 103, 103, 103],\n",
       "         [100, 100, 100, 100, 100, 100, 100, 100, 100, 100, 100, 100, 100,\n",
       "          100, 100, 100, 100, 100, 100, 102, 103, 103, 103, 103, 103]]),\n",
       "  'distance': array([[  6,   5,   4,   3,   4,   5,   6,   7,   8,   8,   7,   6,   7,\n",
       "            8,   9,  10,  11,  11,  10,   9,  10,  11,   2,   1,   0],\n",
       "         [  5,   4,   3,   2,   3,   4,   5,   6,   7,   7,   6,   5,   6,\n",
       "            7,   8,   9,  10,  10,   9,   8,   9,  10,   3,   2,   1],\n",
       "         [  4,   3,   2,   1,   2,   3,   4,   5,   6,   6,   5,   4,   5,\n",
       "            6,   7,   8,   9,   9,   8,   7,   6,   5,   4,   3,   2],\n",
       "         [  3,   2,   1,   0,   6,   5,   4,   5,   6,   5,   4,   3,   4,\n",
       "            5,   6,   7,   8,   9,   9,   8,   9,  10,   5,   4,   3],\n",
       "         [  4,   3,   2,   1,   3,   2,   3,   6,   7,   4,   3,   2,   3,\n",
       "            4,   5,   6,   7,   8,   9,   9,  10,  11,   6,   5,   4],\n",
       "         [  5,   4,   3,   2,   2,   1,   2,   7,   8,   3,   2,   1,   2,\n",
       "            3,   4,   5,   6,   7,   8,   9,  10,  11,   7,   6,   5],\n",
       "         [  6,   5,   4,   3,   1,   0,   1,   8,   9,   2,   1,   0,   1,\n",
       "            2,   3,   4,   5,   6,   7,  10,  10,   9,   8,   7,   6],\n",
       "         [100, 100, 100, 100, 100, 100, 100, 100, 100, 100, 100, 100, 100,\n",
       "          100, 100, 100, 100, 100, 100,  11,  11,  10,   9,   8,   7]])},\n",
       " 2: {'sensorID': array([[101, 101, 101, 101, 101, 101, 101, 101, 101, 100, 100, 100, 100,\n",
       "          100, 100, 103, 103, 102, 102, 102, 102, 102, 102, 102, 102],\n",
       "         [101, 101, 101, 101, 101, 101, 101, 101, 101, 100, 100, 100, 100,\n",
       "          100, 100, 103, 103, 102, 102, 102, 102, 102, 102, 102, 102],\n",
       "         [101, 101, 101, 101, 101, 101, 101, 101, 101, 100, 100, 100, 100,\n",
       "          100, 100, 103, 103, 102, 102, 102, 102, 102, 102, 102, 102],\n",
       "         [101, 101, 101, 101, 100, 100, 100, 100, 100, 100, 100, 100, 100,\n",
       "          100, 100, 103, 103, 103, 102, 102, 102, 102, 102, 102, 102],\n",
       "         [101, 101, 101, 101, 100, 100, 100, 100, 100, 100, 100, 100, 100,\n",
       "          100, 100, 103, 103, 103, 103, 102, 102, 102, 102, 102, 102],\n",
       "         [101, 101, 101, 101, 100, 100, 100, 100, 100, 100, 100, 100, 100,\n",
       "          100, 100, 103, 103, 103, 103, 103, 103, 103, 102, 102, 102],\n",
       "         [101, 101, 101, 101, 100, 100, 100, 100, 100, 100, 100, 100, 100,\n",
       "          100, 100, 103, 103, 103, 103, 103, 102, 102, 102, 102, 102],\n",
       "         [101, 101, 101, 101, 101, 101, 101, 101, 101, 101, 101, 101, 101,\n",
       "          101, 101, 101, 101, 101, 101, 103, 102, 102, 102, 102, 102]]),\n",
       "  'distance': array([[ 13,  12,  11,  10,  11,  10,   9,   8,   9,   9,  10,  11,  12,\n",
       "           13,  14,  13,  12,  12,  13,  14,  15,  16,  17,  18,  19],\n",
       "         [ 12,  11,  10,   9,  10,   9,   8,   7,   8,   8,   9,  10,  11,\n",
       "           12,  13,  12,  11,  11,  12,  13,  14,  15,  16,  17,  18],\n",
       "         [ 11,  10,   9,   8,   7,   6,   5,   6,   7,   7,   8,   9,  10,\n",
       "           11,  12,  11,  10,  10,  11,  12,  13,  14,  15,  16,  17],\n",
       "         [ 12,  11,  10,   9,   7,   6,   5,   6,   7,   8,   9,  10,  11,\n",
       "           12,  13,  12,  11,  10,  10,  11,  12,  13,  16,  17,  18],\n",
       "         [ 13,  12,  11,  10,   8,   7,   6,   7,   8,   9,  10,  11,  12,\n",
       "           13,  14,  13,  12,  11,  10,  10,  11,  12,  17,  18,  17],\n",
       "         [ 14,  13,  12,  11,   9,   8,   7,   8,   9,  10,  11,  12,  13,\n",
       "           14,  15,  14,  13,  12,  11,  10,  11,  12,  18,  17,  16],\n",
       "         [ 15,  14,  13,  12,  10,   9,   8,   9,  10,  11,  12,  13,  14,\n",
       "           15,  16,  15,  14,  13,  12,  11,  11,  12,  13,  14,  15],\n",
       "         [100, 100, 100, 100, 100, 100, 100, 100, 100, 100, 100, 100, 100,\n",
       "          100, 100, 100, 100, 100, 100,  12,  12,  13,  14,  15,  16]])},\n",
       " 3: {'sensorID': array([[102, 102, 102, 102, 102, 102, 102, 102, 102, 101, 101, 101, 101,\n",
       "          101, 103, 100, 100, 100, 100, 100, 100, 100, 100, 100, 100],\n",
       "         [102, 102, 102, 102, 102, 102, 102, 102, 102, 101, 101, 101, 101,\n",
       "          101, 103, 100, 100, 100, 100, 100, 100, 100, 100, 100, 100],\n",
       "         [102, 102, 102, 102, 102, 102, 102, 102, 102, 101, 101, 101, 101,\n",
       "          101, 103, 100, 100, 100, 100, 100, 100, 100, 100, 100, 100],\n",
       "         [102, 102, 102, 102, 102, 102, 102, 102, 102, 101, 101, 101, 101,\n",
       "          101, 103, 100, 100, 100, 100, 100, 100, 100, 100, 100, 100],\n",
       "         [102, 102, 102, 102, 102, 102, 102, 102, 102, 101, 101, 101, 101,\n",
       "          101, 103, 100, 100, 100, 100, 100, 100, 100, 100, 100, 100],\n",
       "         [102, 102, 102, 102, 102, 102, 102, 102, 102, 101, 101, 101, 101,\n",
       "          101, 103, 100, 100, 100, 100, 100, 100, 100, 100, 100, 100],\n",
       "         [102, 102, 102, 102, 102, 102, 102, 102, 102, 101, 101, 101, 101,\n",
       "          101, 103, 100, 100, 100, 100, 100, 100, 100, 100, 100, 100],\n",
       "         [102, 102, 102, 102, 102, 102, 102, 102, 102, 102, 102, 102, 102,\n",
       "          102, 102, 102, 102, 102, 102, 100, 100, 100, 100, 100, 100]]),\n",
       "  'distance': array([[ 17,  16,  15,  14,  13,  12,  11,  10,   9,  10,  11,  12,  13,\n",
       "           14,  14,  15,  16,  17,  18,  19,  20,  21,  22,  23,  24],\n",
       "         [ 16,  15,  14,  13,  12,  11,  10,   9,   8,   9,  10,  11,  12,\n",
       "           13,  13,  14,  15,  16,  17,  18,  19,  20,  21,  22,  23],\n",
       "         [ 15,  14,  13,  12,  11,  10,   9,   8,   7,   8,   9,  10,  11,\n",
       "           12,  12,  13,  14,  15,  16,  17,  18,  19,  20,  21,  22],\n",
       "         [ 16,  15,  14,  13,  12,  11,  10,  11,  12,   9,  10,  11,  12,\n",
       "           13,  13,  14,  15,  16,  17,  18,  19,  20,  21,  22,  23],\n",
       "         [ 17,  16,  15,  14,  13,  12,  11,  12,  13,  10,  11,  12,  13,\n",
       "           14,  14,  15,  16,  17,  18,  19,  20,  21,  22,  23,  24],\n",
       "         [ 18,  17,  16,  15,  14,  13,  12,  13,  14,  11,  12,  13,  14,\n",
       "           15,  15,  16,  17,  18,  19,  20,  21,  22,  23,  24,  25],\n",
       "         [ 19,  18,  17,  16,  15,  14,  13,  14,  15,  12,  13,  14,  15,\n",
       "           16,  16,  17,  18,  19,  20,  21,  22,  23,  24,  25,  26],\n",
       "         [100, 100, 100, 100, 100, 100, 100, 100, 100, 100, 100, 100, 100,\n",
       "          100, 100, 100, 100, 100, 100,  22,  23,  24,  25,  26,  27]])},\n",
       " 4: {'sensorID': array([[103, 103, 103, 103, 103, 103, 103, 103, 103, 103, 103, 103, 103,\n",
       "          103, 101, 101, 101, 101, 101, 101, 101, 101, 101, 101, 101],\n",
       "         [103, 103, 103, 103, 103, 103, 103, 103, 103, 103, 103, 103, 103,\n",
       "          103, 101, 101, 101, 101, 101, 101, 101, 101, 101, 101, 101],\n",
       "         [103, 103, 103, 103, 103, 103, 103, 103, 103, 103, 103, 103, 103,\n",
       "          103, 101, 101, 101, 101, 101, 101, 101, 101, 101, 101, 101],\n",
       "         [103, 103, 103, 103, 103, 103, 103, 103, 103, 103, 103, 103, 103,\n",
       "          103, 101, 101, 101, 101, 101, 101, 101, 101, 101, 101, 101],\n",
       "         [103, 103, 103, 103, 103, 103, 103, 103, 103, 103, 103, 103, 103,\n",
       "          103, 101, 101, 101, 101, 101, 101, 101, 101, 101, 101, 101],\n",
       "         [103, 103, 103, 103, 103, 103, 103, 103, 103, 103, 103, 103, 103,\n",
       "          103, 101, 101, 101, 101, 101, 101, 101, 101, 101, 101, 101],\n",
       "         [103, 103, 103, 103, 103, 103, 103, 103, 103, 103, 103, 103, 103,\n",
       "          103, 101, 101, 101, 101, 101, 101, 101, 101, 101, 101, 101],\n",
       "         [103, 103, 103, 103, 103, 103, 103, 103, 103, 103, 103, 103, 103,\n",
       "          103, 103, 103, 103, 103, 103, 101, 101, 101, 101, 101, 101]]),\n",
       "  'distance': array([[ 28,  27,  26,  25,  24,  23,  22,  21,  20,  19,  18,  17,  16,\n",
       "           15,  15,  16,  17,  18,  19,  20,  21,  22,  23,  24,  25],\n",
       "         [ 27,  26,  25,  24,  23,  22,  21,  20,  19,  18,  17,  16,  15,\n",
       "           14,  14,  15,  16,  17,  18,  19,  20,  21,  22,  23,  24],\n",
       "         [ 26,  25,  24,  23,  22,  21,  20,  19,  18,  17,  16,  15,  14,\n",
       "           13,  13,  14,  15,  16,  17,  18,  19,  20,  21,  22,  23],\n",
       "         [ 27,  26,  25,  24,  23,  22,  21,  22,  23,  18,  17,  16,  15,\n",
       "           14,  14,  15,  16,  17,  18,  19,  20,  21,  22,  23,  24],\n",
       "         [ 28,  27,  26,  25,  24,  23,  22,  23,  24,  19,  18,  17,  16,\n",
       "           15,  15,  16,  17,  18,  19,  20,  21,  22,  23,  24,  25],\n",
       "         [ 29,  28,  27,  26,  25,  24,  23,  24,  25,  20,  19,  18,  17,\n",
       "           16,  16,  17,  18,  19,  20,  21,  22,  23,  24,  25,  26],\n",
       "         [ 30,  29,  28,  27,  26,  25,  24,  25,  26,  21,  20,  19,  18,\n",
       "           17,  17,  18,  19,  20,  21,  22,  23,  24,  25,  26,  27],\n",
       "         [100, 100, 100, 100, 100, 100, 100, 100, 100, 100, 100, 100, 100,\n",
       "          100, 100, 100, 100, 100, 100,  23,  24,  25,  26,  27,  28]])}}"
      ]
     },
     "execution_count": 51,
     "metadata": {},
     "output_type": "execute_result"
    }
   ],
   "source": [
    "sensorDistanceMap"
   ]
  },
  {
   "cell_type": "code",
   "execution_count": 52,
   "metadata": {},
   "outputs": [
    {
     "name": "stdout",
     "output_type": "stream",
     "text": [
      "<class 'pandas.core.frame.DataFrame'>\n",
      "Index: 4409 entries, 0 to 4408\n",
      "Data columns (total 12 columns):\n",
      " #   Column         Non-Null Count  Dtype         \n",
      "---  ------         --------------  -----         \n",
      " 0   Date           4409 non-null   datetime64[ns]\n",
      " 1   pm2_5_avg_100  4409 non-null   float64       \n",
      " 2   pm2_5_avg_101  4409 non-null   float64       \n",
      " 3   pm2_5_avg_102  4409 non-null   float64       \n",
      " 4   pm2_5_avg_103  4409 non-null   float64       \n",
      " 5   status_100     4409 non-null   int64         \n",
      " 6   status_101     4409 non-null   int64         \n",
      " 7   status_102     4409 non-null   int64         \n",
      " 8   status_103     4409 non-null   int64         \n",
      " 9   hour           4409 non-null   int64         \n",
      " 10  minute         4409 non-null   int64         \n",
      " 11  dayoftheyear   4409 non-null   int64         \n",
      "dtypes: datetime64[ns](1), float64(4), int64(7)\n",
      "memory usage: 447.8 KB\n"
     ]
    }
   ],
   "source": [
    "df.info()"
   ]
  },
  {
   "cell_type": "code",
   "execution_count": 53,
   "metadata": {},
   "outputs": [],
   "source": [
    "y = df[['pm2_5_avg_100', 'pm2_5_avg_101', 'pm2_5_avg_102','pm2_5_avg_103']].to_numpy()\n"
   ]
  },
  {
   "cell_type": "code",
   "execution_count": 54,
   "metadata": {
    "execution": {
     "iopub.execute_input": "2024-07-20T04:20:45.190207Z",
     "iopub.status.busy": "2024-07-20T04:20:45.189967Z",
     "iopub.status.idle": "2024-07-20T04:20:45.195424Z",
     "shell.execute_reply": "2024-07-20T04:20:45.194406Z"
    }
   },
   "outputs": [],
   "source": [
    "X = df.drop(columns=['Date'])\n",
    "X_columns = X.columns \n",
    "X = X.to_numpy() \n"
   ]
  },
  {
   "cell_type": "code",
   "execution_count": 55,
   "metadata": {
    "execution": {
     "iopub.execute_input": "2024-07-20T04:20:45.212174Z",
     "iopub.status.busy": "2024-07-20T04:20:45.211918Z",
     "iopub.status.idle": "2024-07-20T04:20:45.216789Z",
     "shell.execute_reply": "2024-07-20T04:20:45.215972Z"
    }
   },
   "outputs": [
    {
     "data": {
      "text/plain": [
       "((4409, 11), (4409, 4))"
      ]
     },
     "execution_count": 55,
     "metadata": {},
     "output_type": "execute_result"
    }
   ],
   "source": [
    "X.shape, y.shape"
   ]
  },
  {
   "cell_type": "code",
   "execution_count": 56,
   "metadata": {
    "execution": {
     "iopub.execute_input": "2024-07-20T04:20:45.220056Z",
     "iopub.status.busy": "2024-07-20T04:20:45.219813Z",
     "iopub.status.idle": "2024-07-20T04:20:45.226818Z",
     "shell.execute_reply": "2024-07-20T04:20:45.226051Z"
    }
   },
   "outputs": [
    {
     "data": {
      "text/plain": [
       "Index(['pm2_5_avg_100', 'pm2_5_avg_101', 'pm2_5_avg_102', 'pm2_5_avg_103',\n",
       "       'status_100', 'status_101', 'status_102', 'status_103', 'hour',\n",
       "       'minute', 'dayoftheyear'],\n",
       "      dtype='object')"
      ]
     },
     "execution_count": 56,
     "metadata": {},
     "output_type": "execute_result"
    }
   ],
   "source": [
    "X_columns"
   ]
  },
  {
   "cell_type": "code",
   "execution_count": 57,
   "metadata": {
    "execution": {
     "iopub.execute_input": "2024-07-20T04:20:45.229590Z",
     "iopub.status.busy": "2024-07-20T04:20:45.229344Z",
     "iopub.status.idle": "2024-07-20T04:20:45.233621Z",
     "shell.execute_reply": "2024-07-20T04:20:45.232720Z"
    }
   },
   "outputs": [],
   "source": [
    "cubeFeatures = ['hour', 'minute', 'day_of_the_year', \n",
    "            'pm25_1_closest_concentration', 'pm25_1_closest_distance', 'status_closest_1',\n",
    "            'pm25_2_closest_concentration', 'pm25_2_closest_distance', 'status_closest_2', \n",
    "            'pm25_3_closest_concentration', 'pm25_3_closest_distance', 'status_closest_3',\n",
    "            'pm25_4_closest_concentration', 'pm25_4_closest_distance', 'status_closest_4',\n",
    "            'hvac_locations']\n",
    "\n",
    "def indexOfFeatureInCube(feature): \n",
    "    return cubeFeatures.index(feature)\n",
    "\n",
    "def indexOfFeature(feature):\n",
    "    return list(X_columns).index(feature)"
   ]
  },
  {
   "cell_type": "code",
   "execution_count": 58,
   "metadata": {},
   "outputs": [
    {
     "name": "stdout",
     "output_type": "stream",
     "text": [
      "<class 'pandas.core.frame.DataFrame'>\n",
      "Index: 4409 entries, 0 to 4408\n",
      "Data columns (total 12 columns):\n",
      " #   Column         Non-Null Count  Dtype         \n",
      "---  ------         --------------  -----         \n",
      " 0   Date           4409 non-null   datetime64[ns]\n",
      " 1   pm2_5_avg_100  4409 non-null   float64       \n",
      " 2   pm2_5_avg_101  4409 non-null   float64       \n",
      " 3   pm2_5_avg_102  4409 non-null   float64       \n",
      " 4   pm2_5_avg_103  4409 non-null   float64       \n",
      " 5   status_100     4409 non-null   int64         \n",
      " 6   status_101     4409 non-null   int64         \n",
      " 7   status_102     4409 non-null   int64         \n",
      " 8   status_103     4409 non-null   int64         \n",
      " 9   hour           4409 non-null   int64         \n",
      " 10  minute         4409 non-null   int64         \n",
      " 11  dayoftheyear   4409 non-null   int64         \n",
      "dtypes: datetime64[ns](1), float64(4), int64(7)\n",
      "memory usage: 447.8 KB\n"
     ]
    }
   ],
   "source": [
    "df.info()"
   ]
  },
  {
   "cell_type": "code",
   "execution_count": 59,
   "metadata": {
    "execution": {
     "iopub.execute_input": "2024-07-20T04:20:45.243705Z",
     "iopub.status.busy": "2024-07-20T04:20:45.243452Z",
     "iopub.status.idle": "2024-07-20T04:20:45.251619Z",
     "shell.execute_reply": "2024-07-20T04:20:45.250711Z"
    }
   },
   "outputs": [],
   "source": [
    "\n",
    "def oneDimensionToSpace(space_X, sampleIndex, reading):\n",
    "        \n",
    "    for featureIndex, feature in enumerate(cubeFeatures):\n",
    "\n",
    "        if feature == 'hour':\n",
    "            space_X[sampleIndex, featureIndex] = np.ones((h,w)) * reading[indexOfFeature('hour')]\n",
    "        elif feature == 'minute':\n",
    "            space_X[sampleIndex, featureIndex] = np.ones((h,w)) * reading[indexOfFeature('minute')]\n",
    "        elif feature == 'day_of_the_year':\n",
    "            space_X[sampleIndex, featureIndex] = np.ones((h,w)) * reading[indexOfFeature('dayoftheyear')]\n",
    "\n",
    "        elif feature in ['pm25_1_closest_concentration', 'pm25_2_closest_concentration', 'pm25_3_closest_concentration', 'pm25_4_closest_concentration']:\n",
    "            \n",
    "            nthClosest = int(feature[5]) # 5th char of 'feature' is '1', '2', (nth closest)\n",
    "            nthClosestSensorIDMap = sensorDistanceMap[nthClosest]['sensorID']\n",
    "            statusFeatureIndex = cubeFeatures.index(f\"status_closest_{nthClosest}\")\n",
    "\n",
    "            for cell in mapCells:\n",
    "                row, col = cell['row'], cell['column']\n",
    "                \n",
    "                cellSensorID = nthClosestSensorIDMap[row][col]\n",
    "                rowX = X[sampleIndex]\n",
    "                readingPM25 = rowX[indexOfFeature('pm2_5_avg_' + str(cellSensorID))]\n",
    "                statusSensor = rowX[indexOfFeature('status_' + str(cellSensorID))]\n",
    "                space_X[sampleIndex, featureIndex, row, col] = readingPM25\n",
    "                space_X[sampleIndex, statusFeatureIndex, row, col] = statusSensor\n",
    "\n",
    "        elif feature in [\"status_closest_1\", \"status_closest_2\", \"status_closest_3\", \"status_closest_4\" ]:\n",
    "            continue # \n",
    "\n",
    "        "
   ]
  },
  {
   "cell_type": "code",
   "execution_count": 60,
   "metadata": {},
   "outputs": [
    {
     "name": "stderr",
     "output_type": "stream",
     "text": [
      "  0%|          | 17/4409 [00:00<00:26, 168.01it/s]"
     ]
    },
    {
     "name": "stderr",
     "output_type": "stream",
     "text": [
      "100%|██████████| 4409/4409 [00:23<00:00, 184.68it/s]\n"
     ]
    }
   ],
   "source": [
    "space_X_filepath = DATA_FOLDER_CACHE + '/space_X.npy'\n",
    "\n",
    "n = df.shape[0]\n",
    "c = len(cubeFeatures) # channels == FEATURES\n",
    "\n",
    "try:\n",
    "    space_X = np.load(space_X_filepath)\n",
    "    print('File loaded from cache')\n",
    "except FileNotFoundError:\n",
    "    space_X = np.empty((n, c, h, w))\n",
    "    space_X[:] = np.nan\n",
    "\n",
    "    # Add HVAC vents locations\n",
    "    hvacFeatureIndex = cubeFeatures.index(f\"hvac_locations\")\n",
    "    space_X[:, hvacFeatureIndex] = mask_hvac\n",
    "    \n",
    "    # Add the PM2.5 closest distance features\n",
    "    for k in [1, 2, 3, 4]:\n",
    "        featureIndex = cubeFeatures.index(f\"pm25_{k}_closest_distance\")\n",
    "        space_X[:, featureIndex] = sensorDistanceMap[k]['distance']\n",
    "\n",
    "    for i, reading in tqdm(enumerate(X), total=len(X)):\n",
    "        oneDimensionToSpace(space_X, i, reading)\n",
    "    \n",
    "    np.save(space_X_filepath, space_X)"
   ]
  },
  {
   "cell_type": "code",
   "execution_count": 61,
   "metadata": {
    "execution": {
     "iopub.execute_input": "2024-07-20T04:21:18.811825Z",
     "iopub.status.busy": "2024-07-20T04:21:18.811486Z",
     "iopub.status.idle": "2024-07-20T04:21:18.817290Z",
     "shell.execute_reply": "2024-07-20T04:21:18.815963Z"
    }
   },
   "outputs": [],
   "source": [
    "assert(X.shape[0] == y.shape[0])"
   ]
  },
  {
   "cell_type": "code",
   "execution_count": 62,
   "metadata": {
    "execution": {
     "iopub.execute_input": "2024-07-20T04:21:18.820628Z",
     "iopub.status.busy": "2024-07-20T04:21:18.820360Z",
     "iopub.status.idle": "2024-07-20T04:21:18.826033Z",
     "shell.execute_reply": "2024-07-20T04:21:18.825156Z"
    }
   },
   "outputs": [
    {
     "data": {
      "text/plain": [
       "(4409, 16, 8, 25)"
      ]
     },
     "execution_count": 62,
     "metadata": {},
     "output_type": "execute_result"
    }
   ],
   "source": [
    "space_X.shape"
   ]
  },
  {
   "cell_type": "code",
   "execution_count": 63,
   "metadata": {
    "execution": {
     "iopub.execute_input": "2024-07-20T04:21:18.856668Z",
     "iopub.status.busy": "2024-07-20T04:21:18.856062Z",
     "iopub.status.idle": "2024-07-20T04:21:21.230252Z",
     "shell.execute_reply": "2024-07-20T04:21:21.229342Z"
    }
   },
   "outputs": [
    {
     "name": "stderr",
     "output_type": "stream",
     "text": [
      "  0%|          | 0/4409 [00:00<?, ?it/s]\n"
     ]
    },
    {
     "name": "stdout",
     "output_type": "stream",
     "text": [
      "Files saved\n"
     ]
    }
   ],
   "source": [
    "t = 5 # 1 hour if sampling is 15 min\n",
    "\n",
    "CHUNK_SIZE = space_X.shape[0]  \n",
    "i = 0\n",
    "    \n",
    "new_X_filepath = DATA_FOLDER_CACHE + f\"/new_X.npy\"\n",
    "new_X = np.empty((CHUNK_SIZE, t, c, h, w))\n",
    "\n",
    "countPreviousReadings = 0\n",
    "new_index = 0\n",
    "\n",
    "with tqdm(total=CHUNK_SIZE) as progress_bar:\n",
    "    while i < CHUNK_SIZE and new_index < CHUNK_SIZE:\n",
    "        countPreviousReadings = 0\n",
    "        if countPreviousReadings >= t - 1:\n",
    "            new_X[new_index] = np.array([space_X[i-t+1 : i+1]])\n",
    "            new_index += 1\n",
    "            progress_bar.update(1)\n",
    "\n",
    "        countPreviousReadings += 1\n",
    "        i += 1\n",
    "\n",
    "np.save(new_X_filepath, new_X)\n",
    "\n",
    "print(\"Files saved\")\n"
   ]
  },
  {
   "cell_type": "code",
   "execution_count": 64,
   "metadata": {},
   "outputs": [],
   "source": [
    "new_y_filepath = DATA_FOLDER_CACHE + f\"/new_y.npy\"\n",
    "np.save(new_y_filepath, y)"
   ]
  },
  {
   "cell_type": "code",
   "execution_count": 65,
   "metadata": {
    "execution": {
     "iopub.execute_input": "2024-07-20T04:21:21.234588Z",
     "iopub.status.busy": "2024-07-20T04:21:21.234308Z",
     "iopub.status.idle": "2024-07-20T04:21:21.241736Z",
     "shell.execute_reply": "2024-07-20T04:21:21.238916Z"
    }
   },
   "outputs": [
    {
     "data": {
      "text/plain": [
       "(4409, 5, 16, 8, 25)"
      ]
     },
     "execution_count": 65,
     "metadata": {},
     "output_type": "execute_result"
    }
   ],
   "source": [
    "new_X.shape"
   ]
  },
  {
   "cell_type": "code",
   "execution_count": 66,
   "metadata": {
    "execution": {
     "iopub.execute_input": "2024-07-20T04:21:21.256848Z",
     "iopub.status.busy": "2024-07-20T04:21:21.256607Z",
     "iopub.status.idle": "2024-07-20T04:21:21.261682Z",
     "shell.execute_reply": "2024-07-20T04:21:21.260862Z"
    }
   },
   "outputs": [
    {
     "data": {
      "text/plain": [
       "(4409, 4409)"
      ]
     },
     "execution_count": 66,
     "metadata": {},
     "output_type": "execute_result"
    }
   ],
   "source": [
    "len(new_X), len(y)"
   ]
  }
 ],
 "metadata": {
  "kernelspec": {
   "display_name": "base",
   "language": "python",
   "name": "python3"
  },
  "language_info": {
   "codemirror_mode": {
    "name": "ipython",
    "version": 3
   },
   "file_extension": ".py",
   "mimetype": "text/x-python",
   "name": "python",
   "nbconvert_exporter": "python",
   "pygments_lexer": "ipython3",
   "version": "3.10.16"
  }
 },
 "nbformat": 4,
 "nbformat_minor": 2
}
