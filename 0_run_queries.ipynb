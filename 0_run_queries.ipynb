{
 "cells": [
  {
   "cell_type": "code",
   "execution_count": 3,
   "metadata": {},
   "outputs": [],
   "source": [
    "import psycopg2\n",
    "import pandas as pd\n",
    "import json"
   ]
  },
  {
   "cell_type": "code",
   "execution_count": 4,
   "metadata": {},
   "outputs": [],
   "source": [
    "WINDOW_START = '2024-01-01 00:00:47.825012 +00:00' # add 5 HOURS TO MATCH db tms\n",
    "WINDOW_END = '2024-07-29 23:04:47.825012 +00:00' # add 5 HOURS TO MATCH db tms\n",
    "PARENT = \"\"\n",
    "DATA_FOLDER = PARENT + \"data_WESCO/\"\n",
    "DATA_FOLDER_READINGS = DATA_FOLDER + \"fixed_readings/\""
   ]
  },
  {
   "cell_type": "code",
   "execution_count": 5,
   "metadata": {},
   "outputs": [],
   "source": [
    "db_config = {\n",
    "    'dbname': 'postgres',\n",
    "    'user': 'postgres.aosddztuihblhxxhbydp',\n",
    "    'password': 'xizcyr-5danpa-kobqUd',\n",
    "    'host': 'aws-0-us-east-1.pooler.supabase.com',\n",
    "    'port': '5432'\n",
    "}\n",
    "\n",
    "conn = psycopg2.connect(**db_config)"
   ]
  },
  {
   "cell_type": "code",
   "execution_count": 6,
   "metadata": {},
   "outputs": [],
   "source": [
    "topics = [\n",
    "    'Theater', 'Metcalfe', 'Davinci', 'Showroom', 'Milesight'\n",
    "]\n",
    "\n",
    "base_query = \"\"\"\n",
    "        SELECT id, topic, created_at, payload  \n",
    "        FROM \"SensorData\"\n",
    "        WHERE topic like '%{topic}%'\n",
    "        and created_at >= '{start}'\n",
    "        and created_at <= '{end}'\n",
    "        ORDER BY id DESC;\n",
    "    \"\"\"\n",
    "\n",
    "queries = {f'{topic.lower()}': base_query.format(topic=topic, start=WINDOW_START, end=WINDOW_END) for topic in topics}"
   ]
  },
  {
   "cell_type": "code",
   "execution_count": 7,
   "metadata": {},
   "outputs": [
    {
     "name": "stderr",
     "output_type": "stream",
     "text": [
      "/var/folders/ny/byyybtqx2zd0lss0rv74bfgh0000gn/T/ipykernel_20457/760121671.py:3: UserWarning: pandas only supports SQLAlchemy connectable (engine/connection) or database string URI or sqlite3 DBAPI2 connection. Other DBAPI2 objects are not tested. Please consider using SQLAlchemy.\n",
      "  df = pd.read_sql_query(query, conn)\n"
     ]
    },
    {
     "name": "stdout",
     "output_type": "stream",
     "text": [
      "Saved data_WESCO/fixed_readings/theater.json\n"
     ]
    },
    {
     "name": "stderr",
     "output_type": "stream",
     "text": [
      "/var/folders/ny/byyybtqx2zd0lss0rv74bfgh0000gn/T/ipykernel_20457/760121671.py:3: UserWarning: pandas only supports SQLAlchemy connectable (engine/connection) or database string URI or sqlite3 DBAPI2 connection. Other DBAPI2 objects are not tested. Please consider using SQLAlchemy.\n",
      "  df = pd.read_sql_query(query, conn)\n"
     ]
    },
    {
     "name": "stdout",
     "output_type": "stream",
     "text": [
      "Saved data_WESCO/fixed_readings/metcalfe.json\n"
     ]
    },
    {
     "name": "stderr",
     "output_type": "stream",
     "text": [
      "/var/folders/ny/byyybtqx2zd0lss0rv74bfgh0000gn/T/ipykernel_20457/760121671.py:3: UserWarning: pandas only supports SQLAlchemy connectable (engine/connection) or database string URI or sqlite3 DBAPI2 connection. Other DBAPI2 objects are not tested. Please consider using SQLAlchemy.\n",
      "  df = pd.read_sql_query(query, conn)\n"
     ]
    },
    {
     "name": "stdout",
     "output_type": "stream",
     "text": [
      "Saved data_WESCO/fixed_readings/davinci.json\n"
     ]
    },
    {
     "name": "stderr",
     "output_type": "stream",
     "text": [
      "/var/folders/ny/byyybtqx2zd0lss0rv74bfgh0000gn/T/ipykernel_20457/760121671.py:3: UserWarning: pandas only supports SQLAlchemy connectable (engine/connection) or database string URI or sqlite3 DBAPI2 connection. Other DBAPI2 objects are not tested. Please consider using SQLAlchemy.\n",
      "  df = pd.read_sql_query(query, conn)\n"
     ]
    },
    {
     "name": "stdout",
     "output_type": "stream",
     "text": [
      "Saved data_WESCO/fixed_readings/showroom.json\n"
     ]
    },
    {
     "name": "stderr",
     "output_type": "stream",
     "text": [
      "/var/folders/ny/byyybtqx2zd0lss0rv74bfgh0000gn/T/ipykernel_20457/760121671.py:3: UserWarning: pandas only supports SQLAlchemy connectable (engine/connection) or database string URI or sqlite3 DBAPI2 connection. Other DBAPI2 objects are not tested. Please consider using SQLAlchemy.\n",
      "  df = pd.read_sql_query(query, conn)\n"
     ]
    },
    {
     "name": "stdout",
     "output_type": "stream",
     "text": [
      "Saved data_WESCO/fixed_readings/milesight.json\n"
     ]
    }
   ],
   "source": [
    "def execute_query_and_save_as_json(query, file_name):\n",
    "    try:\n",
    "        df = pd.read_sql_query(query, conn)\n",
    "        df.to_json(file_name, orient='records', lines=False)\n",
    "        print(f\"Saved {file_name}\")\n",
    "    except Exception as e:\n",
    "        print(f\"Error: {e}\")\n",
    "\n",
    "# Execute each query and save the results\n",
    "for key, query in queries.items():\n",
    "    execute_query_and_save_as_json(query, f\"{DATA_FOLDER_READINGS}{key.lower()}.json\")"
   ]
  }
 ],
 "metadata": {
  "kernelspec": {
   "display_name": "base",
   "language": "python",
   "name": "python3"
  },
  "language_info": {
   "codemirror_mode": {
    "name": "ipython",
    "version": 3
   },
   "file_extension": ".py",
   "mimetype": "text/x-python",
   "name": "python",
   "nbconvert_exporter": "python",
   "pygments_lexer": "ipython3",
   "version": "3.10.16"
  }
 },
 "nbformat": 4,
 "nbformat_minor": 2
}
