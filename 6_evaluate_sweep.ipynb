{
 "cells": [
  {
   "cell_type": "code",
   "execution_count": 2,
   "metadata": {},
   "outputs": [],
   "source": [
    "import numpy as np\n",
    "import pandas as pd\n"
   ]
  },
  {
   "cell_type": "code",
   "execution_count": 3,
   "metadata": {},
   "outputs": [],
   "source": [
    "# Load CSV file containing cell indices and timestamps\n",
    "PARENT = \"Sweep/\"\n",
    "csv_file1 = PARENT + \"sweep1.csv\"  \n",
    "df_cells1 = pd.read_csv(csv_file1)\n",
    "csv_file2 = PARENT + \"sweep2.csv\"  \n",
    "df_cells2 = pd.read_csv(csv_file2)\n",
    "csv_file3 = PARENT + \"sweep3.csv\"  \n",
    "df_cells3 = pd.read_csv(csv_file3)"
   ]
  },
  {
   "cell_type": "code",
   "execution_count": 4,
   "metadata": {},
   "outputs": [
    {
     "data": {
      "text/plain": [
       "(1120, 200)"
      ]
     },
     "execution_count": 4,
     "metadata": {},
     "output_type": "execute_result"
    }
   ],
   "source": [
    "# Load Data\n",
    "ground_truths = np.load(\"GNN_model/data/WESCO/test.npz\")[\"y\"]  \n",
    "predictions = np.load(\"outputs/sweep_predictions.npz\")[\"prediction\"]\n",
    "ground_truths = np.squeeze(ground_truths)\n",
    "predictions = np.squeeze(predictions)  \n",
    "\n",
    "\n",
    "ground_truths.shape\n",
    "predictions.shape"
   ]
  },
  {
   "cell_type": "code",
   "execution_count": 5,
   "metadata": {},
   "outputs": [
    {
     "name": "stdout",
     "output_type": "stream",
     "text": [
      "              Timestamp  Cell Index  Ground Truth  Prediction  Percent Error\n",
      "0   2024-07-26 20:30:00          80      3.533333    4.019532      13.760332\n",
      "1   2024-07-26 20:45:00          30      3.000000    3.307734      10.257785\n",
      "2   2024-07-26 21:15:00         107      5.250000    6.289272      19.795663\n",
      "3   2024-07-26 21:30:00          33      2.816667    3.343163      18.692161\n",
      "4   2024-07-26 21:45:00          89      3.800000    5.115028      34.606010\n",
      "5   2024-07-26 22:00:00          15      2.166667    2.443150      12.760749\n",
      "6   2024-07-26 22:15:00         166      4.433333    5.007809      12.958091\n",
      "7   2024-07-26 22:30:00          21      2.666667    2.702028       1.326060\n",
      "8   2024-07-26 22:45:00         146      5.483333    6.156113      12.269532\n",
      "9   2024-07-26 23:00:00         197      4.783333    5.499537      14.972909\n",
      "10  2024-07-26 23:15:00         123      5.100000    6.204944      21.665571\n",
      "11  2024-07-26 23:45:00          26      2.700000    2.980583      10.391970\n",
      "12  2024-07-27 00:00:00         150      5.266667    5.939655      12.778265\n",
      "\n",
      "Final Average % Error: 15.10%\n"
     ]
    }
   ],
   "source": [
    "# Define Metcalfe sensor index\n",
    "sensor_idx = 78 \n",
    "\n",
    "# Initialize results list\n",
    "error_results = []\n",
    "\n",
    "# Iterate over each row in the CSV file\n",
    "for _, row in df_cells1.iterrows():\n",
    "    cell_index = row[\"cell_index\"]\n",
    "    timestamp = row[\"timestamp\"] \n",
    "\n",
    "    try:\n",
    "        # Extract true & predicted values\n",
    "        true_value = ground_truths[cell_index, sensor_idx]\n",
    "        pred_value = predictions[cell_index, sensor_idx]\n",
    "\n",
    "        # Compute % error\n",
    "        if true_value != 0:\n",
    "            percent_error = abs((pred_value - true_value) / true_value) * 100\n",
    "        else:\n",
    "            percent_error = None  # Avoid division by zero\n",
    "\n",
    "        error_results.append({\"Timestamp\": timestamp, \"Cell Index\": cell_index, \n",
    "                              \"Ground Truth\": true_value, \"Prediction\": pred_value, \n",
    "                              \"Percent Error\": percent_error})\n",
    "    \n",
    "    except IndexError:\n",
    "        print(f\"IndexError: Skipping cell {cell_index} (out of range)\")\n",
    "\n",
    "# Convert results to DataFrame for easy viewing\n",
    "error_df = pd.DataFrame(error_results)\n",
    "print(error_df)\n",
    "\n",
    "average_percent_error1 = error_df[\"Percent Error\"].dropna().mean()\n",
    "print(f\"\\nFinal Average % Error: {average_percent_error1:.2f}%\")"
   ]
  },
  {
   "cell_type": "code",
   "execution_count": 6,
   "metadata": {},
   "outputs": [
    {
     "name": "stdout",
     "output_type": "stream",
     "text": [
      "              Timestamp  Cell Index  Ground Truth  Prediction  Percent Error\n",
      "0   2024-07-29 15:00:00          80      3.533333    4.019532      13.760332\n",
      "1   2024-07-29 15:15:00          30      3.000000    3.307734      10.257785\n",
      "2   2024-07-29 15:30:00         107      5.250000    6.289272      19.795663\n",
      "3   2024-07-29 15:45:00          33      2.816667    3.343163      18.692161\n",
      "4   2024-07-29 16:00:00          89      3.800000    5.115028      34.606010\n",
      "5   2024-07-29 16:15:00          15      2.166667    2.443150      12.760749\n",
      "6   2024-07-29 17:15:00         166      4.433333    5.007809      12.958091\n",
      "7   2024-07-29 17:30:00         146      5.483333    6.156113      12.269532\n",
      "8   2024-07-29 17:45:00          21      2.666667    2.702028       1.326060\n",
      "9   2024-07-29 18:00:00         123      5.100000    6.204944      21.665571\n",
      "10  2024-07-29 18:15:00         197      4.783333    5.499537      14.972909\n",
      "11  2024-07-29 19:00:00          26      2.700000    2.980583      10.391970\n",
      "12  2024-07-29 19:15:00         150      5.266667    5.939655      12.778265\n",
      "\n",
      "Final Average % Error: 15.10%\n"
     ]
    }
   ],
   "source": [
    "# Define Metcalfe sensor index\n",
    "sensor_idx = 78 \n",
    "\n",
    "# Initialize results list\n",
    "error_results = []\n",
    "\n",
    "# Iterate over each row in the CSV file\n",
    "for _, row in df_cells2.iterrows():\n",
    "    cell_index = row[\"cell_index\"]\n",
    "    timestamp = row[\"timestamp\"] \n",
    "\n",
    "    try:\n",
    "        # Extract true & predicted values\n",
    "        true_value = ground_truths[cell_index, sensor_idx]\n",
    "        pred_value = predictions[cell_index, sensor_idx]\n",
    "\n",
    "        # Compute % error\n",
    "        if true_value != 0:\n",
    "            percent_error = abs((pred_value - true_value) / true_value) * 100\n",
    "        else:\n",
    "            percent_error = None  # Avoid division by zero\n",
    "\n",
    "        error_results.append({\"Timestamp\": timestamp, \"Cell Index\": cell_index, \n",
    "                              \"Ground Truth\": true_value, \"Prediction\": pred_value, \n",
    "                              \"Percent Error\": percent_error})\n",
    "    \n",
    "    except IndexError:\n",
    "        print(f\"IndexError: Skipping cell {cell_index} (out of range)\")\n",
    "\n",
    "# Convert results to DataFrame for easy viewing\n",
    "error_df = pd.DataFrame(error_results)\n",
    "print(error_df)\n",
    "\n",
    "average_percent_error2 = error_df[\"Percent Error\"].dropna().mean()\n",
    "print(f\"\\nFinal Average % Error: {average_percent_error2:.2f}%\")"
   ]
  },
  {
   "cell_type": "code",
   "execution_count": 7,
   "metadata": {},
   "outputs": [
    {
     "name": "stdout",
     "output_type": "stream",
     "text": [
      "              Timestamp  Cell Index  Ground Truth  Prediction  Percent Error\n",
      "0   2024-07-29 20:15:00          80      3.533333    4.019532      13.760332\n",
      "1   2024-07-29 20:30:00         107      5.250000    6.289272      19.795663\n",
      "2   2024-07-29 20:45:00          30      3.000000    3.307734      10.257785\n",
      "3   2024-07-29 21:00:00          33      2.816667    3.343163      18.692161\n",
      "4   2024-07-29 21:15:00          89      3.800000    5.115028      34.606010\n",
      "5   2024-07-29 21:30:00          21      2.666667    2.702028       1.326060\n",
      "6   2024-07-29 21:45:00         146      5.483333    6.156113      12.269532\n",
      "7   2024-07-29 22:00:00         197      4.783333    5.499537      14.972909\n",
      "8   2024-07-29 22:15:00         123      5.100000    6.204944      21.665571\n",
      "9   2024-07-29 22:30:00          26      2.700000    2.980583      10.391970\n",
      "10  2024-07-29 22:45:00         150      5.266667    5.939655      12.778265\n",
      "\n",
      "Final Average % Error: 15.50%\n"
     ]
    }
   ],
   "source": [
    "# Define Metcalfe sensor index\n",
    "sensor_idx = 78 \n",
    "\n",
    "# Initialize results list\n",
    "error_results = []\n",
    "\n",
    "# Iterate over each row in the CSV file\n",
    "for _, row in df_cells3.iterrows():\n",
    "    cell_index = row[\"cell_index\"]\n",
    "    timestamp = row[\"timestamp\"] \n",
    "\n",
    "    try:\n",
    "        # Extract true & predicted values\n",
    "        true_value = ground_truths[cell_index, sensor_idx]\n",
    "        pred_value = predictions[cell_index, sensor_idx]\n",
    "\n",
    "        # Compute % error\n",
    "        if true_value != 0:\n",
    "            percent_error = abs((pred_value - true_value) / true_value) * 100\n",
    "        else:\n",
    "            percent_error = None  # Avoid division by zero\n",
    "\n",
    "        error_results.append({\"Timestamp\": timestamp, \"Cell Index\": cell_index, \n",
    "                              \"Ground Truth\": true_value, \"Prediction\": pred_value, \n",
    "                              \"Percent Error\": percent_error})\n",
    "    \n",
    "    except IndexError:\n",
    "        print(f\"IndexError: Skipping cell {cell_index} (out of range)\")\n",
    "\n",
    "# Convert results to DataFrame for easy viewing\n",
    "error_df = pd.DataFrame(error_results)\n",
    "print(error_df)\n",
    "\n",
    "average_percent_error3 = error_df[\"Percent Error\"].dropna().mean()\n",
    "print(f\"\\nFinal Average % Error: {average_percent_error3:.2f}%\")"
   ]
  },
  {
   "cell_type": "code",
   "execution_count": 10,
   "metadata": {},
   "outputs": [
    {
     "name": "stdout",
     "output_type": "stream",
     "text": [
      "\n",
      "Final Average % Error on sweep: 15.23%\n"
     ]
    }
   ],
   "source": [
    "final_percent_error_on_sweep = (average_percent_error1 + average_percent_error2 + average_percent_error3)/3\n",
    "print(f\"\\nFinal Average % Error on sweep: {final_percent_error_on_sweep:.2f}%\")"
   ]
  },
  {
   "cell_type": "code",
   "execution_count": 11,
   "metadata": {},
   "outputs": [
    {
     "name": "stdout",
     "output_type": "stream",
     "text": [
      "           Timestamp  Cell Index  Ground Truth  Prediction  Percent Error\n",
      "0   2024-07-26 20:30          80      3.533333    4.019532      13.760332\n",
      "1   2024-07-26 20:45          30      3.000000    3.307734      10.257785\n",
      "2   2024-07-26 21:15         107      5.250000    6.289272      19.795663\n",
      "3   2024-07-26 21:30          33      2.816667    3.343163      18.692161\n",
      "4   2024-07-26 21:45          89      3.800000    5.115028      34.606010\n",
      "5   2024-07-26 22:00          15      2.166667    2.443150      12.760749\n",
      "6   2024-07-26 22:15         166      4.433333    5.007809      12.958091\n",
      "7   2024-07-26 22:30          21      2.666667    2.702028       1.326060\n",
      "8   2024-07-26 22:45         146      5.483333    6.156113      12.269532\n",
      "9   2024-07-26 23:00         197      4.783333    5.499537      14.972909\n",
      "10  2024-07-26 23:15         123      5.100000    6.204944      21.665571\n",
      "11  2024-07-26 23:45          26      2.700000    2.980583      10.391970\n",
      "12   2024-07-27 0:00         150      5.266667    5.939655      12.778265\n",
      "13  2024-07-29 15:00          80      3.533333    4.019532      13.760332\n",
      "14  2024-07-29 15:15          30      3.000000    3.307734      10.257785\n",
      "15  2024-07-29 15:30         107      5.250000    6.289272      19.795663\n",
      "16  2024-07-29 15:45          33      2.816667    3.343163      18.692161\n",
      "17  2024-07-29 16:00          89      3.800000    5.115028      34.606010\n",
      "18  2024-07-29 16:15          15      2.166667    2.443150      12.760749\n",
      "19  2024-07-29 17:15         166      4.433333    5.007809      12.958091\n",
      "20  2024-07-29 17:30         146      5.483333    6.156113      12.269532\n",
      "21  2024-07-29 17:45          21      2.666667    2.702028       1.326060\n",
      "22  2024-07-29 18:00         123      5.100000    6.204944      21.665571\n",
      "23  2024-07-29 18:15         197      4.783333    5.499537      14.972909\n",
      "24  2024-07-29 19:00          26      2.700000    2.980583      10.391970\n",
      "25  2024-07-29 19:15         150      5.266667    5.939655      12.778265\n",
      "26  2024-07-29 20:15          80      3.533333    4.019532      13.760332\n",
      "27  2024-07-29 20:30         107      5.250000    6.289272      19.795663\n",
      "28  2024-07-29 20:45          30      3.000000    3.307734      10.257785\n",
      "29  2024-07-29 21:00          33      2.816667    3.343163      18.692161\n",
      "30  2024-07-29 21:15          89      3.800000    5.115028      34.606010\n",
      "31  2024-07-29 21:30          21      2.666667    2.702028       1.326060\n",
      "32  2024-07-29 21:45         146      5.483333    6.156113      12.269532\n",
      "33  2024-07-29 22:00         197      4.783333    5.499537      14.972909\n",
      "34  2024-07-29 22:15         123      5.100000    6.204944      21.665571\n",
      "35  2024-07-29 22:30          26      2.700000    2.980583      10.391970\n",
      "36  2024-07-29 22:45         150      5.266667    5.939655      12.778265\n",
      "\n",
      "Final Average % Error: 15.22%\n"
     ]
    }
   ],
   "source": [
    "# Load CSV file containing cell indices and timestamps\n",
    "PARENT = \"Sweep/\"\n",
    "csv_file = PARENT + \"accumulated_sweep.csv\"  \n",
    "df_cells = pd.read_csv(csv_file)\n",
    "\n",
    "# Define Metcalfe sensor index\n",
    "sensor_idx = 78 \n",
    "\n",
    "# Initialize results list\n",
    "error_results = []\n",
    "\n",
    "# Iterate over each row in the CSV file\n",
    "for _, row in df_cells.iterrows():\n",
    "    cell_index = row[\"cell_index\"]\n",
    "    timestamp = row[\"timestamp\"] \n",
    "\n",
    "    try:\n",
    "        # Extract true & predicted values\n",
    "        true_value = ground_truths[cell_index, sensor_idx]\n",
    "        pred_value = predictions[cell_index, sensor_idx]\n",
    "\n",
    "        # Compute % error\n",
    "        if true_value != 0:\n",
    "            percent_error = abs((pred_value - true_value) / true_value) * 100\n",
    "        else:\n",
    "            percent_error = None  # Avoid division by zero\n",
    "\n",
    "        error_results.append({\"Timestamp\": timestamp, \"Cell Index\": cell_index, \n",
    "                              \"Ground Truth\": true_value, \"Prediction\": pred_value, \n",
    "                              \"Percent Error\": percent_error})\n",
    "    \n",
    "    except IndexError:\n",
    "        print(f\"IndexError: Skipping cell {cell_index} (out of range)\")\n",
    "\n",
    "# Convert results to DataFrame for easy viewing\n",
    "error_df = pd.DataFrame(error_results)\n",
    "print(error_df)\n",
    "\n",
    "average_percent_error1 = error_df[\"Percent Error\"].dropna().mean()\n",
    "print(f\"\\nFinal Average % Error: {average_percent_error1:.2f}%\")"
   ]
  }
 ],
 "metadata": {
  "kernelspec": {
   "display_name": "base",
   "language": "python",
   "name": "python3"
  },
  "language_info": {
   "codemirror_mode": {
    "name": "ipython",
    "version": 3
   },
   "file_extension": ".py",
   "mimetype": "text/x-python",
   "name": "python",
   "nbconvert_exporter": "python",
   "pygments_lexer": "ipython3",
   "version": "3.10.16"
  }
 },
 "nbformat": 4,
 "nbformat_minor": 2
}
