{
 "cells": [
  {
   "cell_type": "code",
   "execution_count": 1,
   "metadata": {
    "execution": {
     "iopub.execute_input": "2024-07-20T04:20:08.881122Z",
     "iopub.status.busy": "2024-07-20T04:20:08.880463Z",
     "iopub.status.idle": "2024-07-20T04:20:09.693920Z",
     "shell.execute_reply": "2024-07-20T04:20:09.691800Z"
    }
   },
   "outputs": [],
   "source": [
    "import pandas as pd\n",
    "import numpy as np\n",
    "import math\n",
    "from datetime import datetime\n",
    "import json\n",
    "import pickle\n",
    "import matplotlib.pyplot as plt\n",
    "import networkx as nx\n",
    "import ast"
   ]
  },
  {
   "cell_type": "code",
   "execution_count": 2,
   "metadata": {},
   "outputs": [],
   "source": [
    "ENV_PARAM = \"avg_pm2.5\""
   ]
  },
  {
   "cell_type": "code",
   "execution_count": 3,
   "metadata": {
    "execution": {
     "iopub.execute_input": "2024-07-20T04:20:09.708131Z",
     "iopub.status.busy": "2024-07-20T04:20:09.707652Z",
     "iopub.status.idle": "2024-07-20T04:20:09.718200Z",
     "shell.execute_reply": "2024-07-20T04:20:09.717317Z"
    }
   },
   "outputs": [],
   "source": [
    "PARENT = \"../Sweep/\"\n",
    "DATA_FOLDER = PARENT + \"data_WESCO/\"\n",
    "DATA_FOLDER_READINGS = DATA_FOLDER + \"fixed_readings/\"\n",
    "DATA_FOLDER_CACHE = DATA_FOLDER + 'cache/'\n",
    "CALIBRATION_FOLDER = DATA_FOLDER + \"calibration/\"\n"
   ]
  },
  {
   "cell_type": "code",
   "execution_count": 4,
   "metadata": {},
   "outputs": [],
   "source": [
    "T = 5"
   ]
  },
  {
   "cell_type": "code",
   "execution_count": 5,
   "metadata": {
    "execution": {
     "iopub.execute_input": "2024-07-20T04:20:09.722341Z",
     "iopub.status.busy": "2024-07-20T04:20:09.721722Z",
     "iopub.status.idle": "2024-07-20T04:20:09.729412Z",
     "shell.execute_reply": "2024-07-20T04:20:09.726611Z"
    }
   },
   "outputs": [],
   "source": [
    "room_names = {\n",
    "    \n",
    "}"
   ]
  },
  {
   "cell_type": "code",
   "execution_count": 6,
   "metadata": {
    "execution": {
     "iopub.execute_input": "2024-07-20T04:20:09.737516Z",
     "iopub.status.busy": "2024-07-20T04:20:09.736269Z",
     "iopub.status.idle": "2024-07-20T04:20:09.752310Z",
     "shell.execute_reply": "2024-07-20T04:20:09.751382Z"
    }
   },
   "outputs": [],
   "source": [
    "def import_calibration_models():\n",
    "    with open(CALIBRATION_FOLDER + 'theater_linear.pkl', 'rb') as file:\n",
    "        m_t = pickle.load(file)\n",
    "    with open(CALIBRATION_FOLDER + 'showroom_linear.pkl', 'rb') as file:\n",
    "        m_s = pickle.load(file)\n",
    "    with open(CALIBRATION_FOLDER + 'davinci_linear.pkl', 'rb') as file:\n",
    "        m_v = pickle.load(file)\n",
    "\n",
    "    return m_t, m_s, m_v"
   ]
  },
  {
   "cell_type": "code",
   "execution_count": null,
   "metadata": {},
   "outputs": [],
   "source": []
  },
  {
   "cell_type": "code",
   "execution_count": 7,
   "metadata": {
    "execution": {
     "iopub.execute_input": "2024-07-20T04:20:09.762743Z",
     "iopub.status.busy": "2024-07-20T04:20:09.760105Z",
     "iopub.status.idle": "2024-07-20T04:20:10.267454Z",
     "shell.execute_reply": "2024-07-20T04:20:10.266469Z"
    }
   },
   "outputs": [],
   "source": [
    "#m_t, m_s, m_v = import_calibration_models()\n",
    "m_t, m_s, m_v = None, None, None"
   ]
  },
  {
   "cell_type": "code",
   "execution_count": 8,
   "metadata": {
    "execution": {
     "iopub.execute_input": "2024-07-20T04:20:10.271922Z",
     "iopub.status.busy": "2024-07-20T04:20:10.271232Z",
     "iopub.status.idle": "2024-07-20T04:20:10.279048Z",
     "shell.execute_reply": "2024-07-20T04:20:10.278084Z"
    }
   },
   "outputs": [],
   "source": [
    "def import_df_from_json(filename, model):\n",
    "    with open(filename, \"r\") as file:\n",
    "        raw_data = json.load(file)\n",
    "\n",
    "        device_id = raw_data[0][\"payload\"][\"device_id\"]\n",
    "        device_loc = raw_data[0][\"payload\"][\"device_location\"]\n",
    "        room_names[device_id] = device_loc\n",
    "\n",
    "    \n",
    "        dataset = [record[\"payload\"][\"data\"] for record in raw_data if \"data\" in record[\"payload\"]]\n",
    "        df = pd.DataFrame(dataset)\n",
    "\n",
    "        df['timestamp'] = pd.to_datetime(df['timestamp'].astype(int) // 1000, unit='s')\n",
    "        #df['timestamp'] = pd.to_datetime(df['timestamp'], unit='ms')\n",
    "        df = df.drop_duplicates(subset='timestamp')        \n",
    "        df[\"device_id\"] = device_id\n",
    "        df[\"device_location\"] = device_loc\n",
    "\n",
    "        # calibrate\n",
    "        if model: # no negative results due to miscalibration\n",
    "            df[\"avg_pm2.5\"] = [max(model.predict(np.array([[x]]))[0], 0) for x in df[\"avg_pm2.5\"]]\n",
    "\n",
    "\n",
    "    return df    \n"
   ]
  },
  {
   "cell_type": "code",
   "execution_count": 9,
   "metadata": {
    "execution": {
     "iopub.execute_input": "2024-07-20T04:20:10.282229Z",
     "iopub.status.busy": "2024-07-20T04:20:10.281970Z",
     "iopub.status.idle": "2024-07-20T04:20:12.062826Z",
     "shell.execute_reply": "2024-07-20T04:20:12.061875Z"
    }
   },
   "outputs": [
    {
     "name": "stdout",
     "output_type": "stream",
     "text": [
      "df1.shape=(8661, 14) df2.shape=(7048, 14) df3.shape=(6220, 14) df4.shape=(9073, 14)\n"
     ]
    }
   ],
   "source": [
    "df1 = import_df_from_json(DATA_FOLDER_READINGS + \"theater.json\", m_t)\n",
    "df2 = import_df_from_json(DATA_FOLDER_READINGS + \"davinci.json\", m_v)\n",
    "df3 = import_df_from_json(DATA_FOLDER_READINGS + \"showroom.json\", m_s)\n",
    "df4 = import_df_from_json(DATA_FOLDER_READINGS + \"metcalfe.json\", None)\n",
    "\n",
    "\n",
    "print(f\"{df1.shape=} {df2.shape=} {df3.shape=} {df4.shape=}\")\n"
   ]
  },
  {
   "cell_type": "code",
   "execution_count": 10,
   "metadata": {},
   "outputs": [],
   "source": [
    "#FILTER OUT TMS OF VISIT DAYS\n",
    "all_tms = set(df1['timestamp']) | set(df2['timestamp']) | set(df3['timestamp']) | set(df4['timestamp'])\n",
    "all_tms = {ts for ts in all_tms if ts.date() in {pd.Timestamp('2024-07-22'), pd.Timestamp('2024-07-26').date(), pd.Timestamp('2024-07-29').date()}}\n",
    "# intersection = set(df1['timestamp']) & set(df2['timestamp']) & set(df3['timestamp']) & set(df4['timestamp'])\n",
    "# print(len(intersection))"
   ]
  },
  {
   "cell_type": "code",
   "execution_count": 11,
   "metadata": {},
   "outputs": [],
   "source": [
    "def forward_fill_time_limited(df, time_column='timestamp', max_time_diff='60min'):\n",
    "\n",
    "    F = 0\n",
    "    filled_df = df.copy()\n",
    "    \n",
    "    # Ensure the time column is in datetime format\n",
    "    filled_df[time_column] = pd.to_datetime(filled_df[time_column])\n",
    "    \n",
    "    for column in filled_df.columns:\n",
    "        if column == time_column:\n",
    "            continue\n",
    "        \n",
    "        last_valid = None\n",
    "        last_valid_time = None\n",
    "        \n",
    "        for i in range(len(filled_df)):\n",
    "            current_time = filled_df.at[filled_df.index[i], time_column]\n",
    "            current_value = filled_df.at[filled_df.index[i], column]\n",
    "            \n",
    "            if pd.isna(current_value) or (filled_df[column].dtype == 'object' and current_value == ''):\n",
    "                if (last_valid is not None and \n",
    "                    last_valid_time is not None and\n",
    "                    (current_time - last_valid_time) <= pd.Timedelta(max_time_diff)):\n",
    "                    \n",
    "                    filled_df.at[filled_df.index[i], column] = last_valid\n",
    "                    F += 1\n",
    "                    \n",
    "            else:\n",
    "                last_valid = current_value\n",
    "                last_valid_time = current_time\n",
    "    \n",
    "    #print(F)\n",
    "    return filled_df\n"
   ]
  },
  {
   "cell_type": "code",
   "execution_count": 12,
   "metadata": {},
   "outputs": [
    {
     "name": "stdout",
     "output_type": "stream",
     "text": [
      "(187, 15)\n"
     ]
    },
    {
     "name": "stdout",
     "output_type": "stream",
     "text": [
      "(187, 15)\n",
      "(187, 15)\n",
      "(187, 15)\n"
     ]
    }
   ],
   "source": [
    "def reindex_df(df):\n",
    "    df.set_index('timestamp', inplace=True)\n",
    "    df = df.reindex(all_tms)\n",
    "    df.sort_index(inplace=True)\n",
    "    df.reset_index(inplace=True)\n",
    "    df['status'] = 1 - df['avg_pm2.5'].isna().astype(int)\n",
    "    df = forward_fill_time_limited(df, time_column='timestamp', max_time_diff='60min')\n",
    "    print(df.shape)\n",
    "    df.dropna(inplace=True)\n",
    "    #print(df.shape)\n",
    "    return df\n",
    "\n",
    "df1 = reindex_df(df1)\n",
    "df2 = reindex_df(df2)\n",
    "df3 = reindex_df(df3)\n",
    "df4 = reindex_df(df4)\n"
   ]
  },
  {
   "cell_type": "code",
   "execution_count": 13,
   "metadata": {},
   "outputs": [],
   "source": [
    "intersection = set(df1['timestamp']) & set(df2['timestamp']) & set(df3['timestamp']) & set(df4['timestamp'])"
   ]
  },
  {
   "cell_type": "code",
   "execution_count": 14,
   "metadata": {
    "execution": {
     "iopub.execute_input": "2024-07-20T04:20:12.066921Z",
     "iopub.status.busy": "2024-07-20T04:20:12.066642Z",
     "iopub.status.idle": "2024-07-20T04:20:12.071683Z",
     "shell.execute_reply": "2024-07-20T04:20:12.070857Z"
    }
   },
   "outputs": [],
   "source": [
    "def combine_dfs(dfs):\n",
    "    return pd.concat(dfs)"
   ]
  },
  {
   "cell_type": "code",
   "execution_count": 15,
   "metadata": {
    "execution": {
     "iopub.execute_input": "2024-07-20T04:20:12.075190Z",
     "iopub.status.busy": "2024-07-20T04:20:12.074645Z",
     "iopub.status.idle": "2024-07-20T04:20:12.091361Z",
     "shell.execute_reply": "2024-07-20T04:20:12.090561Z"
    }
   },
   "outputs": [],
   "source": [
    "dfs = [df1, df2, df3, df4]\n",
    "df = combine_dfs(dfs)"
   ]
  },
  {
   "cell_type": "code",
   "execution_count": 16,
   "metadata": {
    "execution": {
     "iopub.execute_input": "2024-07-20T04:20:12.094522Z",
     "iopub.status.busy": "2024-07-20T04:20:12.094272Z",
     "iopub.status.idle": "2024-07-20T04:20:12.120524Z",
     "shell.execute_reply": "2024-07-20T04:20:12.119551Z"
    }
   },
   "outputs": [],
   "source": [
    "_ = df.groupby(['timestamp']).size().reset_index(name='count')"
   ]
  },
  {
   "cell_type": "code",
   "execution_count": 17,
   "metadata": {},
   "outputs": [],
   "source": [
    "_sorted = _.sort_values(by='count', ascending=False)"
   ]
  },
  {
   "cell_type": "code",
   "execution_count": 18,
   "metadata": {},
   "outputs": [
    {
     "data": {
      "text/html": [
       "<div>\n",
       "<style scoped>\n",
       "    .dataframe tbody tr th:only-of-type {\n",
       "        vertical-align: middle;\n",
       "    }\n",
       "\n",
       "    .dataframe tbody tr th {\n",
       "        vertical-align: top;\n",
       "    }\n",
       "\n",
       "    .dataframe thead th {\n",
       "        text-align: right;\n",
       "    }\n",
       "</style>\n",
       "<table border=\"1\" class=\"dataframe\">\n",
       "  <thead>\n",
       "    <tr style=\"text-align: right;\">\n",
       "      <th></th>\n",
       "      <th>timestamp</th>\n",
       "      <th>count</th>\n",
       "    </tr>\n",
       "  </thead>\n",
       "  <tbody>\n",
       "    <tr>\n",
       "      <th>93</th>\n",
       "      <td>2024-07-26 23:15:00</td>\n",
       "      <td>4</td>\n",
       "    </tr>\n",
       "    <tr>\n",
       "      <th>153</th>\n",
       "      <td>2024-07-29 14:45:00</td>\n",
       "      <td>4</td>\n",
       "    </tr>\n",
       "    <tr>\n",
       "      <th>151</th>\n",
       "      <td>2024-07-29 14:15:00</td>\n",
       "      <td>4</td>\n",
       "    </tr>\n",
       "    <tr>\n",
       "      <th>150</th>\n",
       "      <td>2024-07-29 14:00:00</td>\n",
       "      <td>4</td>\n",
       "    </tr>\n",
       "    <tr>\n",
       "      <th>149</th>\n",
       "      <td>2024-07-29 13:45:00</td>\n",
       "      <td>4</td>\n",
       "    </tr>\n",
       "    <tr>\n",
       "      <th>...</th>\n",
       "      <td>...</td>\n",
       "      <td>...</td>\n",
       "    </tr>\n",
       "    <tr>\n",
       "      <th>112</th>\n",
       "      <td>2024-07-29 04:30:00</td>\n",
       "      <td>3</td>\n",
       "    </tr>\n",
       "    <tr>\n",
       "      <th>111</th>\n",
       "      <td>2024-07-29 04:15:00</td>\n",
       "      <td>3</td>\n",
       "    </tr>\n",
       "    <tr>\n",
       "      <th>110</th>\n",
       "      <td>2024-07-29 04:00:00</td>\n",
       "      <td>3</td>\n",
       "    </tr>\n",
       "    <tr>\n",
       "      <th>32</th>\n",
       "      <td>2024-07-26 08:00:00</td>\n",
       "      <td>2</td>\n",
       "    </tr>\n",
       "    <tr>\n",
       "      <th>0</th>\n",
       "      <td>2024-07-26 00:00:00</td>\n",
       "      <td>2</td>\n",
       "    </tr>\n",
       "  </tbody>\n",
       "</table>\n",
       "<p>187 rows × 2 columns</p>\n",
       "</div>"
      ],
      "text/plain": [
       "              timestamp  count\n",
       "93  2024-07-26 23:15:00      4\n",
       "153 2024-07-29 14:45:00      4\n",
       "151 2024-07-29 14:15:00      4\n",
       "150 2024-07-29 14:00:00      4\n",
       "149 2024-07-29 13:45:00      4\n",
       "..                  ...    ...\n",
       "112 2024-07-29 04:30:00      3\n",
       "111 2024-07-29 04:15:00      3\n",
       "110 2024-07-29 04:00:00      3\n",
       "32  2024-07-26 08:00:00      2\n",
       "0   2024-07-26 00:00:00      2\n",
       "\n",
       "[187 rows x 2 columns]"
      ]
     },
     "execution_count": 18,
     "metadata": {},
     "output_type": "execute_result"
    }
   ],
   "source": [
    "_sorted"
   ]
  },
  {
   "cell_type": "code",
   "execution_count": 19,
   "metadata": {
    "execution": {
     "iopub.execute_input": "2024-07-20T04:20:12.162044Z",
     "iopub.status.busy": "2024-07-20T04:20:12.160605Z",
     "iopub.status.idle": "2024-07-20T04:20:12.169060Z",
     "shell.execute_reply": "2024-07-20T04:20:12.168278Z"
    }
   },
   "outputs": [],
   "source": [
    "timestamps = _sorted[_sorted['count'] == 4][\"timestamp\"]\n",
    "df = df[df['timestamp'].isin(timestamps)]  # === isin(intersection), sanity check"
   ]
  },
  {
   "cell_type": "code",
   "execution_count": 20,
   "metadata": {},
   "outputs": [
    {
     "data": {
      "text/plain": [
       "1     2024-07-26 00:15:00\n",
       "2     2024-07-26 00:30:00\n",
       "3     2024-07-26 00:45:00\n",
       "4     2024-07-26 01:00:00\n",
       "5     2024-07-26 01:15:00\n",
       "              ...        \n",
       "182   2024-07-29 22:00:00\n",
       "183   2024-07-29 22:15:00\n",
       "184   2024-07-29 22:30:00\n",
       "185   2024-07-29 22:45:00\n",
       "186   2024-07-29 23:00:00\n",
       "Name: timestamp, Length: 436, dtype: datetime64[ns]"
      ]
     },
     "execution_count": 20,
     "metadata": {},
     "output_type": "execute_result"
    }
   ],
   "source": [
    "df['timestamp']"
   ]
  },
  {
   "cell_type": "code",
   "execution_count": 21,
   "metadata": {
    "execution": {
     "iopub.execute_input": "2024-07-20T04:20:12.172615Z",
     "iopub.status.busy": "2024-07-20T04:20:12.171849Z",
     "iopub.status.idle": "2024-07-20T04:20:12.176149Z",
     "shell.execute_reply": "2024-07-20T04:20:12.175331Z"
    }
   },
   "outputs": [],
   "source": [
    "# extract only timestamps for which we have data for all the sensors\n",
    "assert timestamps.shape[0] * len(dfs) == df.shape[0]"
   ]
  },
  {
   "cell_type": "code",
   "execution_count": 22,
   "metadata": {},
   "outputs": [
    {
     "data": {
      "image/png": "[encoded data removed]",
      "text/plain": [
       "<Figure size 1000x500 with 1 Axes>"
      ]
     },
     "metadata": {},
     "output_type": "display_data"
    }
   ],
   "source": [
    "plt.figure(figsize=(10, 5))\n",
    "\n",
    "# Loop through each site_num and plot its readings\n",
    "for sensor in df['device_location'].unique():\n",
    "    subset = df[df['device_location'] == sensor]\n",
    "    plt.plot(subset['timestamp'], subset['avg_pm2.5'], label=sensor)\n",
    "\n",
    "# Customize plot\n",
    "\n",
    "plt.gca().xaxis.set_major_formatter(plt.matplotlib.dates.DateFormatter('%Y-%m-%d %I%p'))\n",
    "plt.title('Sensor Readings Over Time')\n",
    "plt.xlabel('Timestamp')\n",
    "plt.xticks(rotation=45)\n",
    "\n",
    "plt.ylabel('PM2.5 Reading')\n",
    "plt.legend(title='Sensor')\n",
    "plt.grid(True)\n",
    "\n",
    "plt.show()\n"
   ]
  },
  {
   "cell_type": "code",
   "execution_count": 23,
   "metadata": {
    "execution": {
     "iopub.execute_input": "2024-07-20T04:20:12.179772Z",
     "iopub.status.busy": "2024-07-20T04:20:12.179025Z",
     "iopub.status.idle": "2024-07-20T04:20:12.200011Z",
     "shell.execute_reply": "2024-07-20T04:20:12.199057Z"
    }
   },
   "outputs": [
    {
     "name": "stdout",
     "output_type": "stream",
     "text": [
      "<class 'pandas.core.frame.DataFrame'>\n",
      "Index: 436 entries, 1 to 186\n",
      "Data columns (total 15 columns):\n",
      " #   Column           Non-Null Count  Dtype         \n",
      "---  ------           --------------  -----         \n",
      " 0   timestamp        436 non-null    datetime64[ns]\n",
      " 1   avg_db           436 non-null    float64       \n",
      " 2   avg_rh           436 non-null    float64       \n",
      " 3   avg_lux          436 non-null    float64       \n",
      " 4   avg_pm1          436 non-null    float64       \n",
      " 5   avg_pm4          436 non-null    float64       \n",
      " 6   avg_voc          436 non-null    float64       \n",
      " 7   avg_eco2         436 non-null    float64       \n",
      " 8   avg_pm10         436 non-null    float64       \n",
      " 9   avg_temp         436 non-null    float64       \n",
      " 10  avg_pm2.5        436 non-null    float64       \n",
      " 11  avg_wynd_score   436 non-null    float64       \n",
      " 12  device_id        436 non-null    object        \n",
      " 13  device_location  436 non-null    object        \n",
      " 14  status           436 non-null    int64         \n",
      "dtypes: datetime64[ns](1), float64(11), int64(1), object(2)\n",
      "memory usage: 54.5+ KB\n"
     ]
    }
   ],
   "source": [
    "df.info()"
   ]
  },
  {
   "cell_type": "code",
   "execution_count": 24,
   "metadata": {},
   "outputs": [
    {
     "data": {
      "text/html": [
       "<div>\n",
       "<style scoped>\n",
       "    .dataframe tbody tr th:only-of-type {\n",
       "        vertical-align: middle;\n",
       "    }\n",
       "\n",
       "    .dataframe tbody tr th {\n",
       "        vertical-align: top;\n",
       "    }\n",
       "\n",
       "    .dataframe thead th {\n",
       "        text-align: right;\n",
       "    }\n",
       "</style>\n",
       "<table border=\"1\" class=\"dataframe\">\n",
       "  <thead>\n",
       "    <tr style=\"text-align: right;\">\n",
       "      <th></th>\n",
       "      <th>timestamp</th>\n",
       "      <th>avg_db</th>\n",
       "      <th>avg_rh</th>\n",
       "      <th>avg_lux</th>\n",
       "      <th>avg_pm1</th>\n",
       "      <th>avg_pm4</th>\n",
       "      <th>avg_voc</th>\n",
       "      <th>avg_eco2</th>\n",
       "      <th>avg_pm10</th>\n",
       "      <th>avg_temp</th>\n",
       "      <th>avg_pm2.5</th>\n",
       "      <th>avg_wynd_score</th>\n",
       "      <th>device_id</th>\n",
       "      <th>device_location</th>\n",
       "      <th>status</th>\n",
       "    </tr>\n",
       "  </thead>\n",
       "  <tbody>\n",
       "    <tr>\n",
       "      <th>1</th>\n",
       "      <td>2024-07-26 00:15:00</td>\n",
       "      <td>61.666667</td>\n",
       "      <td>50.0</td>\n",
       "      <td>50.620000</td>\n",
       "      <td>5.466667</td>\n",
       "      <td>8.450000</td>\n",
       "      <td>31.633333</td>\n",
       "      <td>445.800000</td>\n",
       "      <td>9.200000</td>\n",
       "      <td>20.0</td>\n",
       "      <td>7.816667</td>\n",
       "      <td>95.0</td>\n",
       "      <td>HAL-007-d532860e</td>\n",
       "      <td>Theater</td>\n",
       "      <td>1</td>\n",
       "    </tr>\n",
       "    <tr>\n",
       "      <th>2</th>\n",
       "      <td>2024-07-26 00:30:00</td>\n",
       "      <td>59.016667</td>\n",
       "      <td>51.0</td>\n",
       "      <td>32.225000</td>\n",
       "      <td>5.500000</td>\n",
       "      <td>8.766667</td>\n",
       "      <td>20.650000</td>\n",
       "      <td>412.066667</td>\n",
       "      <td>9.416667</td>\n",
       "      <td>19.0</td>\n",
       "      <td>7.866667</td>\n",
       "      <td>95.0</td>\n",
       "      <td>HAL-007-d532860e</td>\n",
       "      <td>Theater</td>\n",
       "      <td>1</td>\n",
       "    </tr>\n",
       "    <tr>\n",
       "      <th>3</th>\n",
       "      <td>2024-07-26 00:45:00</td>\n",
       "      <td>58.783333</td>\n",
       "      <td>51.0</td>\n",
       "      <td>27.303333</td>\n",
       "      <td>5.333333</td>\n",
       "      <td>8.683333</td>\n",
       "      <td>13.266667</td>\n",
       "      <td>401.450000</td>\n",
       "      <td>9.716667</td>\n",
       "      <td>19.0</td>\n",
       "      <td>7.816667</td>\n",
       "      <td>95.0</td>\n",
       "      <td>HAL-007-d532860e</td>\n",
       "      <td>Theater</td>\n",
       "      <td>1</td>\n",
       "    </tr>\n",
       "    <tr>\n",
       "      <th>4</th>\n",
       "      <td>2024-07-26 01:00:00</td>\n",
       "      <td>58.283333</td>\n",
       "      <td>52.0</td>\n",
       "      <td>22.788333</td>\n",
       "      <td>5.416667</td>\n",
       "      <td>8.966667</td>\n",
       "      <td>16.850000</td>\n",
       "      <td>412.933333</td>\n",
       "      <td>9.616667</td>\n",
       "      <td>19.0</td>\n",
       "      <td>7.966667</td>\n",
       "      <td>95.0</td>\n",
       "      <td>HAL-007-d532860e</td>\n",
       "      <td>Theater</td>\n",
       "      <td>1</td>\n",
       "    </tr>\n",
       "    <tr>\n",
       "      <th>5</th>\n",
       "      <td>2024-07-26 01:15:00</td>\n",
       "      <td>58.183333</td>\n",
       "      <td>53.0</td>\n",
       "      <td>20.541667</td>\n",
       "      <td>5.450000</td>\n",
       "      <td>8.533333</td>\n",
       "      <td>16.450000</td>\n",
       "      <td>411.050000</td>\n",
       "      <td>9.250000</td>\n",
       "      <td>19.0</td>\n",
       "      <td>7.783333</td>\n",
       "      <td>95.0</td>\n",
       "      <td>HAL-007-d532860e</td>\n",
       "      <td>Theater</td>\n",
       "      <td>1</td>\n",
       "    </tr>\n",
       "    <tr>\n",
       "      <th>...</th>\n",
       "      <td>...</td>\n",
       "      <td>...</td>\n",
       "      <td>...</td>\n",
       "      <td>...</td>\n",
       "      <td>...</td>\n",
       "      <td>...</td>\n",
       "      <td>...</td>\n",
       "      <td>...</td>\n",
       "      <td>...</td>\n",
       "      <td>...</td>\n",
       "      <td>...</td>\n",
       "      <td>...</td>\n",
       "      <td>...</td>\n",
       "      <td>...</td>\n",
       "      <td>...</td>\n",
       "    </tr>\n",
       "    <tr>\n",
       "      <th>182</th>\n",
       "      <td>2024-07-29 22:00:00</td>\n",
       "      <td>55.566667</td>\n",
       "      <td>48.0</td>\n",
       "      <td>502.213333</td>\n",
       "      <td>2.033333</td>\n",
       "      <td>3.583333</td>\n",
       "      <td>21.433333</td>\n",
       "      <td>414.266667</td>\n",
       "      <td>4.950000</td>\n",
       "      <td>20.0</td>\n",
       "      <td>2.783333</td>\n",
       "      <td>98.0</td>\n",
       "      <td>HAL-007-470dd483</td>\n",
       "      <td>Metcalfe</td>\n",
       "      <td>1</td>\n",
       "    </tr>\n",
       "    <tr>\n",
       "      <th>183</th>\n",
       "      <td>2024-07-29 22:15:00</td>\n",
       "      <td>57.850000</td>\n",
       "      <td>47.0</td>\n",
       "      <td>321.738333</td>\n",
       "      <td>2.050000</td>\n",
       "      <td>3.683333</td>\n",
       "      <td>23.783333</td>\n",
       "      <td>419.250000</td>\n",
       "      <td>5.016667</td>\n",
       "      <td>21.0</td>\n",
       "      <td>2.850000</td>\n",
       "      <td>97.0</td>\n",
       "      <td>HAL-007-470dd483</td>\n",
       "      <td>Metcalfe</td>\n",
       "      <td>1</td>\n",
       "    </tr>\n",
       "    <tr>\n",
       "      <th>184</th>\n",
       "      <td>2024-07-29 22:30:00</td>\n",
       "      <td>56.288462</td>\n",
       "      <td>46.0</td>\n",
       "      <td>418.278846</td>\n",
       "      <td>2.057692</td>\n",
       "      <td>3.750000</td>\n",
       "      <td>22.769231</td>\n",
       "      <td>413.153846</td>\n",
       "      <td>5.076923</td>\n",
       "      <td>21.0</td>\n",
       "      <td>2.788462</td>\n",
       "      <td>97.0</td>\n",
       "      <td>HAL-007-470dd483</td>\n",
       "      <td>Metcalfe</td>\n",
       "      <td>1</td>\n",
       "    </tr>\n",
       "    <tr>\n",
       "      <th>185</th>\n",
       "      <td>2024-07-29 22:45:00</td>\n",
       "      <td>54.650000</td>\n",
       "      <td>49.0</td>\n",
       "      <td>483.696667</td>\n",
       "      <td>2.050000</td>\n",
       "      <td>3.650000</td>\n",
       "      <td>18.666667</td>\n",
       "      <td>403.600000</td>\n",
       "      <td>4.966667</td>\n",
       "      <td>19.0</td>\n",
       "      <td>2.733333</td>\n",
       "      <td>98.0</td>\n",
       "      <td>HAL-007-470dd483</td>\n",
       "      <td>Metcalfe</td>\n",
       "      <td>1</td>\n",
       "    </tr>\n",
       "    <tr>\n",
       "      <th>186</th>\n",
       "      <td>2024-07-29 23:00:00</td>\n",
       "      <td>60.200000</td>\n",
       "      <td>49.0</td>\n",
       "      <td>525.647500</td>\n",
       "      <td>2.050000</td>\n",
       "      <td>3.700000</td>\n",
       "      <td>28.075000</td>\n",
       "      <td>453.650000</td>\n",
       "      <td>5.300000</td>\n",
       "      <td>20.0</td>\n",
       "      <td>2.800000</td>\n",
       "      <td>97.0</td>\n",
       "      <td>HAL-007-470dd483</td>\n",
       "      <td>Metcalfe</td>\n",
       "      <td>1</td>\n",
       "    </tr>\n",
       "  </tbody>\n",
       "</table>\n",
       "<p>436 rows × 15 columns</p>\n",
       "</div>"
      ],
      "text/plain": [
       "              timestamp     avg_db  avg_rh     avg_lux   avg_pm1   avg_pm4  \\\n",
       "1   2024-07-26 00:15:00  61.666667    50.0   50.620000  5.466667  8.450000   \n",
       "2   2024-07-26 00:30:00  59.016667    51.0   32.225000  5.500000  8.766667   \n",
       "3   2024-07-26 00:45:00  58.783333    51.0   27.303333  5.333333  8.683333   \n",
       "4   2024-07-26 01:00:00  58.283333    52.0   22.788333  5.416667  8.966667   \n",
       "5   2024-07-26 01:15:00  58.183333    53.0   20.541667  5.450000  8.533333   \n",
       "..                  ...        ...     ...         ...       ...       ...   \n",
       "182 2024-07-29 22:00:00  55.566667    48.0  502.213333  2.033333  3.583333   \n",
       "183 2024-07-29 22:15:00  57.850000    47.0  321.738333  2.050000  3.683333   \n",
       "184 2024-07-29 22:30:00  56.288462    46.0  418.278846  2.057692  3.750000   \n",
       "185 2024-07-29 22:45:00  54.650000    49.0  483.696667  2.050000  3.650000   \n",
       "186 2024-07-29 23:00:00  60.200000    49.0  525.647500  2.050000  3.700000   \n",
       "\n",
       "       avg_voc    avg_eco2  avg_pm10  avg_temp  avg_pm2.5  avg_wynd_score  \\\n",
       "1    31.633333  445.800000  9.200000      20.0   7.816667            95.0   \n",
       "2    20.650000  412.066667  9.416667      19.0   7.866667            95.0   \n",
       "3    13.266667  401.450000  9.716667      19.0   7.816667            95.0   \n",
       "4    16.850000  412.933333  9.616667      19.0   7.966667            95.0   \n",
       "5    16.450000  411.050000  9.250000      19.0   7.783333            95.0   \n",
       "..         ...         ...       ...       ...        ...             ...   \n",
       "182  21.433333  414.266667  4.950000      20.0   2.783333            98.0   \n",
       "183  23.783333  419.250000  5.016667      21.0   2.850000            97.0   \n",
       "184  22.769231  413.153846  5.076923      21.0   2.788462            97.0   \n",
       "185  18.666667  403.600000  4.966667      19.0   2.733333            98.0   \n",
       "186  28.075000  453.650000  5.300000      20.0   2.800000            97.0   \n",
       "\n",
       "            device_id device_location  status  \n",
       "1    HAL-007-d532860e         Theater       1  \n",
       "2    HAL-007-d532860e         Theater       1  \n",
       "3    HAL-007-d532860e         Theater       1  \n",
       "4    HAL-007-d532860e         Theater       1  \n",
       "5    HAL-007-d532860e         Theater       1  \n",
       "..                ...             ...     ...  \n",
       "182  HAL-007-470dd483        Metcalfe       1  \n",
       "183  HAL-007-470dd483        Metcalfe       1  \n",
       "184  HAL-007-470dd483        Metcalfe       1  \n",
       "185  HAL-007-470dd483        Metcalfe       1  \n",
       "186  HAL-007-470dd483        Metcalfe       1  \n",
       "\n",
       "[436 rows x 15 columns]"
      ]
     },
     "execution_count": 24,
     "metadata": {},
     "output_type": "execute_result"
    }
   ],
   "source": [
    "df"
   ]
  },
  {
   "cell_type": "code",
   "execution_count": 25,
   "metadata": {
    "execution": {
     "iopub.execute_input": "2024-07-20T04:20:12.212712Z",
     "iopub.status.busy": "2024-07-20T04:20:12.211908Z",
     "iopub.status.idle": "2024-07-20T04:20:12.217754Z",
     "shell.execute_reply": "2024-07-20T04:20:12.216890Z"
    }
   },
   "outputs": [
    {
     "data": {
      "text/plain": [
       "{'avg_db',\n",
       " 'avg_eco2',\n",
       " 'avg_lux',\n",
       " 'avg_pm1',\n",
       " 'avg_pm10',\n",
       " 'avg_pm4',\n",
       " 'avg_rh',\n",
       " 'avg_temp',\n",
       " 'avg_voc',\n",
       " 'avg_wynd_score',\n",
       " 'device_id'}"
      ]
     },
     "execution_count": 25,
     "metadata": {},
     "output_type": "execute_result"
    }
   ],
   "source": [
    "# FEATURES \n",
    "FEATURES = ['device_location', 'timestamp', 'avg_pm2.5', 'status']\n",
    "columns_to_drop = set(df.columns) - set(FEATURES)\n",
    "columns_to_drop\n"
   ]
  },
  {
   "cell_type": "code",
   "execution_count": 26,
   "metadata": {
    "execution": {
     "iopub.execute_input": "2024-07-20T04:20:12.221099Z",
     "iopub.status.busy": "2024-07-20T04:20:12.220813Z",
     "iopub.status.idle": "2024-07-20T04:20:12.225615Z",
     "shell.execute_reply": "2024-07-20T04:20:12.224765Z"
    }
   },
   "outputs": [],
   "source": [
    "#df = df.dropna()\n",
    "df = df.rename(columns={\"avg_pm2.5\":\"pm2_5_avg\"})"
   ]
  },
  {
   "cell_type": "code",
   "execution_count": 27,
   "metadata": {
    "execution": {
     "iopub.execute_input": "2024-07-20T04:20:12.228897Z",
     "iopub.status.busy": "2024-07-20T04:20:12.228626Z",
     "iopub.status.idle": "2024-07-20T04:20:12.239187Z",
     "shell.execute_reply": "2024-07-20T04:20:12.238363Z"
    }
   },
   "outputs": [],
   "source": [
    "#df['timestamp'] = pd.to_datetime(df['timestamp'])\n",
    "#df['year'] = df['timestamp'].dt.year\n",
    "#df['month'] = df['timestamp'].dt.month\n",
    "df['hour'] = df['timestamp'].dt.hour\n",
    "df['minute'] = df['timestamp'].dt.minute\n",
    "df['dayoftheyear'] = df['timestamp'].dt.dayofyear"
   ]
  },
  {
   "cell_type": "code",
   "execution_count": 28,
   "metadata": {
    "execution": {
     "iopub.execute_input": "2024-07-20T04:20:12.257803Z",
     "iopub.status.busy": "2024-07-20T04:20:12.257550Z",
     "iopub.status.idle": "2024-07-20T04:20:12.261603Z",
     "shell.execute_reply": "2024-07-20T04:20:12.260653Z"
    }
   },
   "outputs": [],
   "source": [
    "SENSOR_COLUMN = 'device_location' # PARAM2"
   ]
  },
  {
   "cell_type": "code",
   "execution_count": 29,
   "metadata": {
    "execution": {
     "iopub.execute_input": "2024-07-20T04:20:12.265015Z",
     "iopub.status.busy": "2024-07-20T04:20:12.264755Z",
     "iopub.status.idle": "2024-07-20T04:20:12.277781Z",
     "shell.execute_reply": "2024-07-20T04:20:12.276831Z"
    }
   },
   "outputs": [
    {
     "name": "stdout",
     "output_type": "stream",
     "text": [
      "There are 4 distinct stations: ['Theater' 'DaVinci' 'Showroom' 'Metcalfe']\n",
      "Station Theater has 109 elements\n",
      "Station DaVinci has 109 elements\n",
      "Station Showroom has 109 elements\n",
      "Station Metcalfe has 109 elements\n"
     ]
    }
   ],
   "source": [
    "distinctStations = df[SENSOR_COLUMN].unique() \n",
    "stationsNumber = distinctStations.shape[0]\n",
    "print(f\"There are {stationsNumber} distinct stations: \" + str(distinctStations))\n",
    "for stationID in distinctStations:\n",
    "    currentStationNumberRows = df[df[SENSOR_COLUMN] == stationID].shape[0]\n",
    "    print(f\"Station {stationID} has {currentStationNumberRows} elements\")"
   ]
  },
  {
   "cell_type": "code",
   "execution_count": 30,
   "metadata": {
    "execution": {
     "iopub.execute_input": "2024-07-20T04:20:12.280889Z",
     "iopub.status.busy": "2024-07-20T04:20:12.280633Z",
     "iopub.status.idle": "2024-07-20T04:20:12.284284Z",
     "shell.execute_reply": "2024-07-20T04:20:12.283341Z"
    }
   },
   "outputs": [],
   "source": [
    "DATE_COLUMN = 'timestamp' # PARAM3 "
   ]
  },
  {
   "cell_type": "code",
   "execution_count": 31,
   "metadata": {
    "execution": {
     "iopub.execute_input": "2024-07-20T04:20:12.287451Z",
     "iopub.status.busy": "2024-07-20T04:20:12.287144Z",
     "iopub.status.idle": "2024-07-20T04:20:12.314851Z",
     "shell.execute_reply": "2024-07-20T04:20:12.314099Z"
    }
   },
   "outputs": [
    {
     "name": "stdout",
     "output_type": "stream",
     "text": [
      "Dataset has data from 2024-07-26 00:15:00 to 2024-07-29 23:00:00\n"
     ]
    }
   ],
   "source": [
    "dataStartDate = sorted(df[DATE_COLUMN])[0]\n",
    "dataEndDate = sorted(df[DATE_COLUMN])[-1]\n",
    "print(f\"Dataset has data from {dataStartDate} to {dataEndDate}\")"
   ]
  },
  {
   "cell_type": "code",
   "execution_count": 32,
   "metadata": {
    "execution": {
     "iopub.execute_input": "2024-07-20T04:20:12.317761Z",
     "iopub.status.busy": "2024-07-20T04:20:12.317501Z",
     "iopub.status.idle": "2024-07-20T04:20:12.324407Z",
     "shell.execute_reply": "2024-07-20T04:20:12.322429Z"
    }
   },
   "outputs": [
    {
     "data": {
      "text/plain": [
       "array(['Theater', 'DaVinci', 'Showroom', 'Metcalfe'], dtype=object)"
      ]
     },
     "execution_count": 32,
     "metadata": {},
     "output_type": "execute_result"
    }
   ],
   "source": [
    "df[\"device_location\"].unique()"
   ]
  },
  {
   "cell_type": "code",
   "execution_count": 33,
   "metadata": {
    "execution": {
     "iopub.execute_input": "2024-07-20T04:20:12.327544Z",
     "iopub.status.busy": "2024-07-20T04:20:12.327231Z",
     "iopub.status.idle": "2024-07-20T04:20:12.331889Z",
     "shell.execute_reply": "2024-07-20T04:20:12.331020Z"
    }
   },
   "outputs": [],
   "source": [
    "locations_placementIds = {\n",
    "    'DaVinci' : 100,\n",
    "    'Metcalfe' : 101,\n",
    "    'Showroom' : 102,\n",
    "    'Theater' : 103\n",
    "}"
   ]
  },
  {
   "cell_type": "code",
   "execution_count": 34,
   "metadata": {
    "execution": {
     "iopub.execute_input": "2024-07-20T04:20:12.334919Z",
     "iopub.status.busy": "2024-07-20T04:20:12.334673Z",
     "iopub.status.idle": "2024-07-20T04:20:12.342266Z",
     "shell.execute_reply": "2024-07-20T04:20:12.341518Z"
    }
   },
   "outputs": [],
   "source": [
    "df[\"placement_id\"] = df[\"device_location\"].map(locations_placementIds)"
   ]
  },
  {
   "cell_type": "code",
   "execution_count": 35,
   "metadata": {
    "execution": {
     "iopub.execute_input": "2024-07-20T04:20:12.345216Z",
     "iopub.status.busy": "2024-07-20T04:20:12.344981Z",
     "iopub.status.idle": "2024-07-20T04:20:12.350876Z",
     "shell.execute_reply": "2024-07-20T04:20:12.349981Z"
    }
   },
   "outputs": [],
   "source": [
    "df = df.drop(columns={\"device_location\"})"
   ]
  },
  {
   "cell_type": "code",
   "execution_count": 36,
   "metadata": {
    "execution": {
     "iopub.execute_input": "2024-07-20T04:20:12.354058Z",
     "iopub.status.busy": "2024-07-20T04:20:12.353807Z",
     "iopub.status.idle": "2024-07-20T04:20:12.363713Z",
     "shell.execute_reply": "2024-07-20T04:20:12.362722Z"
    }
   },
   "outputs": [
    {
     "name": "stdout",
     "output_type": "stream",
     "text": [
      "<class 'pandas.core.frame.DataFrame'>\n",
      "Index: 436 entries, 1 to 186\n",
      "Data columns (total 18 columns):\n",
      " #   Column          Non-Null Count  Dtype         \n",
      "---  ------          --------------  -----         \n",
      " 0   timestamp       436 non-null    datetime64[ns]\n",
      " 1   avg_db          436 non-null    float64       \n",
      " 2   avg_rh          436 non-null    float64       \n",
      " 3   avg_lux         436 non-null    float64       \n",
      " 4   avg_pm1         436 non-null    float64       \n",
      " 5   avg_pm4         436 non-null    float64       \n",
      " 6   avg_voc         436 non-null    float64       \n",
      " 7   avg_eco2        436 non-null    float64       \n",
      " 8   avg_pm10        436 non-null    float64       \n",
      " 9   avg_temp        436 non-null    float64       \n",
      " 10  pm2_5_avg       436 non-null    float64       \n",
      " 11  avg_wynd_score  436 non-null    float64       \n",
      " 12  device_id       436 non-null    object        \n",
      " 13  status          436 non-null    int64         \n",
      " 14  hour            436 non-null    int32         \n",
      " 15  minute          436 non-null    int32         \n",
      " 16  dayoftheyear    436 non-null    int32         \n",
      " 17  placement_id    436 non-null    int64         \n",
      "dtypes: datetime64[ns](1), float64(11), int32(3), int64(2), object(1)\n",
      "memory usage: 59.6+ KB\n"
     ]
    }
   ],
   "source": [
    "df.info()"
   ]
  },
  {
   "cell_type": "code",
   "execution_count": 37,
   "metadata": {},
   "outputs": [],
   "source": [
    "df_selected = df[['timestamp', 'pm2_5_avg', 'status', 'placement_id']]\n",
    "df_pivoted = df_selected.pivot(index='timestamp', columns='placement_id')\n",
    "\n",
    "df_pivoted.columns = [f\"{col}_{pid}\" for col, pid in df_pivoted.columns]\n",
    "df_pivoted.reset_index(inplace=True)"
   ]
  },
  {
   "cell_type": "code",
   "execution_count": 38,
   "metadata": {},
   "outputs": [
    {
     "data": {
      "text/html": [
       "<div>\n",
       "<style scoped>\n",
       "    .dataframe tbody tr th:only-of-type {\n",
       "        vertical-align: middle;\n",
       "    }\n",
       "\n",
       "    .dataframe tbody tr th {\n",
       "        vertical-align: top;\n",
       "    }\n",
       "\n",
       "    .dataframe thead th {\n",
       "        text-align: right;\n",
       "    }\n",
       "</style>\n",
       "<table border=\"1\" class=\"dataframe\">\n",
       "  <thead>\n",
       "    <tr style=\"text-align: right;\">\n",
       "      <th></th>\n",
       "      <th>timestamp</th>\n",
       "      <th>pm2_5_avg_100</th>\n",
       "      <th>pm2_5_avg_101</th>\n",
       "      <th>pm2_5_avg_102</th>\n",
       "      <th>pm2_5_avg_103</th>\n",
       "      <th>status_100</th>\n",
       "      <th>status_101</th>\n",
       "      <th>status_102</th>\n",
       "      <th>status_103</th>\n",
       "    </tr>\n",
       "  </thead>\n",
       "  <tbody>\n",
       "    <tr>\n",
       "      <th>0</th>\n",
       "      <td>2024-07-26 00:15:00</td>\n",
       "      <td>2.083333</td>\n",
       "      <td>3.416667</td>\n",
       "      <td>4.300000</td>\n",
       "      <td>7.816667</td>\n",
       "      <td>1</td>\n",
       "      <td>1</td>\n",
       "      <td>1</td>\n",
       "      <td>1</td>\n",
       "    </tr>\n",
       "    <tr>\n",
       "      <th>1</th>\n",
       "      <td>2024-07-26 00:30:00</td>\n",
       "      <td>2.000000</td>\n",
       "      <td>3.750000</td>\n",
       "      <td>4.233333</td>\n",
       "      <td>7.866667</td>\n",
       "      <td>1</td>\n",
       "      <td>1</td>\n",
       "      <td>1</td>\n",
       "      <td>1</td>\n",
       "    </tr>\n",
       "    <tr>\n",
       "      <th>2</th>\n",
       "      <td>2024-07-26 00:45:00</td>\n",
       "      <td>2.000000</td>\n",
       "      <td>3.883333</td>\n",
       "      <td>4.183333</td>\n",
       "      <td>7.816667</td>\n",
       "      <td>0</td>\n",
       "      <td>1</td>\n",
       "      <td>1</td>\n",
       "      <td>1</td>\n",
       "    </tr>\n",
       "    <tr>\n",
       "      <th>3</th>\n",
       "      <td>2024-07-26 01:00:00</td>\n",
       "      <td>2.000000</td>\n",
       "      <td>3.600000</td>\n",
       "      <td>4.216667</td>\n",
       "      <td>7.966667</td>\n",
       "      <td>0</td>\n",
       "      <td>1</td>\n",
       "      <td>1</td>\n",
       "      <td>1</td>\n",
       "    </tr>\n",
       "    <tr>\n",
       "      <th>4</th>\n",
       "      <td>2024-07-26 01:15:00</td>\n",
       "      <td>2.000000</td>\n",
       "      <td>3.766667</td>\n",
       "      <td>4.116667</td>\n",
       "      <td>7.783333</td>\n",
       "      <td>1</td>\n",
       "      <td>1</td>\n",
       "      <td>1</td>\n",
       "      <td>1</td>\n",
       "    </tr>\n",
       "    <tr>\n",
       "      <th>...</th>\n",
       "      <td>...</td>\n",
       "      <td>...</td>\n",
       "      <td>...</td>\n",
       "      <td>...</td>\n",
       "      <td>...</td>\n",
       "      <td>...</td>\n",
       "      <td>...</td>\n",
       "      <td>...</td>\n",
       "      <td>...</td>\n",
       "    </tr>\n",
       "    <tr>\n",
       "      <th>104</th>\n",
       "      <td>2024-07-29 22:00:00</td>\n",
       "      <td>1.031250</td>\n",
       "      <td>2.783333</td>\n",
       "      <td>2.816667</td>\n",
       "      <td>5.800000</td>\n",
       "      <td>1</td>\n",
       "      <td>1</td>\n",
       "      <td>1</td>\n",
       "      <td>1</td>\n",
       "    </tr>\n",
       "    <tr>\n",
       "      <th>105</th>\n",
       "      <td>2024-07-29 22:15:00</td>\n",
       "      <td>1.062500</td>\n",
       "      <td>2.850000</td>\n",
       "      <td>2.816667</td>\n",
       "      <td>5.650000</td>\n",
       "      <td>1</td>\n",
       "      <td>1</td>\n",
       "      <td>1</td>\n",
       "      <td>1</td>\n",
       "    </tr>\n",
       "    <tr>\n",
       "      <th>106</th>\n",
       "      <td>2024-07-29 22:30:00</td>\n",
       "      <td>1.107143</td>\n",
       "      <td>2.788462</td>\n",
       "      <td>2.900000</td>\n",
       "      <td>6.550000</td>\n",
       "      <td>1</td>\n",
       "      <td>1</td>\n",
       "      <td>1</td>\n",
       "      <td>1</td>\n",
       "    </tr>\n",
       "    <tr>\n",
       "      <th>107</th>\n",
       "      <td>2024-07-29 22:45:00</td>\n",
       "      <td>1.062500</td>\n",
       "      <td>2.733333</td>\n",
       "      <td>2.833333</td>\n",
       "      <td>5.633333</td>\n",
       "      <td>1</td>\n",
       "      <td>1</td>\n",
       "      <td>1</td>\n",
       "      <td>1</td>\n",
       "    </tr>\n",
       "    <tr>\n",
       "      <th>108</th>\n",
       "      <td>2024-07-29 23:00:00</td>\n",
       "      <td>1.053571</td>\n",
       "      <td>2.800000</td>\n",
       "      <td>2.833333</td>\n",
       "      <td>5.733333</td>\n",
       "      <td>1</td>\n",
       "      <td>1</td>\n",
       "      <td>1</td>\n",
       "      <td>1</td>\n",
       "    </tr>\n",
       "  </tbody>\n",
       "</table>\n",
       "<p>109 rows × 9 columns</p>\n",
       "</div>"
      ],
      "text/plain": [
       "              timestamp  pm2_5_avg_100  pm2_5_avg_101  pm2_5_avg_102  \\\n",
       "0   2024-07-26 00:15:00       2.083333       3.416667       4.300000   \n",
       "1   2024-07-26 00:30:00       2.000000       3.750000       4.233333   \n",
       "2   2024-07-26 00:45:00       2.000000       3.883333       4.183333   \n",
       "3   2024-07-26 01:00:00       2.000000       3.600000       4.216667   \n",
       "4   2024-07-26 01:15:00       2.000000       3.766667       4.116667   \n",
       "..                  ...            ...            ...            ...   \n",
       "104 2024-07-29 22:00:00       1.031250       2.783333       2.816667   \n",
       "105 2024-07-29 22:15:00       1.062500       2.850000       2.816667   \n",
       "106 2024-07-29 22:30:00       1.107143       2.788462       2.900000   \n",
       "107 2024-07-29 22:45:00       1.062500       2.733333       2.833333   \n",
       "108 2024-07-29 23:00:00       1.053571       2.800000       2.833333   \n",
       "\n",
       "     pm2_5_avg_103  status_100  status_101  status_102  status_103  \n",
       "0         7.816667           1           1           1           1  \n",
       "1         7.866667           1           1           1           1  \n",
       "2         7.816667           0           1           1           1  \n",
       "3         7.966667           0           1           1           1  \n",
       "4         7.783333           1           1           1           1  \n",
       "..             ...         ...         ...         ...         ...  \n",
       "104       5.800000           1           1           1           1  \n",
       "105       5.650000           1           1           1           1  \n",
       "106       6.550000           1           1           1           1  \n",
       "107       5.633333           1           1           1           1  \n",
       "108       5.733333           1           1           1           1  \n",
       "\n",
       "[109 rows x 9 columns]"
      ]
     },
     "execution_count": 38,
     "metadata": {},
     "output_type": "execute_result"
    }
   ],
   "source": [
    "df_pivoted"
   ]
  },
  {
   "cell_type": "code",
   "execution_count": 39,
   "metadata": {},
   "outputs": [
    {
     "data": {
      "text/plain": [
       "True"
      ]
     },
     "execution_count": 39,
     "metadata": {},
     "output_type": "execute_result"
    }
   ],
   "source": [
    "df.shape[0] == df_pivoted.shape[0] * 4"
   ]
  },
  {
   "cell_type": "code",
   "execution_count": 40,
   "metadata": {},
   "outputs": [],
   "source": [
    "df = df_pivoted"
   ]
  },
  {
   "cell_type": "code",
   "execution_count": 41,
   "metadata": {
    "execution": {
     "iopub.execute_input": "2024-07-20T04:20:40.585803Z",
     "iopub.status.busy": "2024-07-20T04:20:40.585566Z",
     "iopub.status.idle": "2024-07-20T04:20:40.593681Z",
     "shell.execute_reply": "2024-07-20T04:20:40.592955Z"
    }
   },
   "outputs": [],
   "source": [
    "df = df.rename(columns={\"timestamp\": \"Date\", \n",
    "                   \"placement_id\": \"Site Num\"})\n",
    "df = df.sort_values(['Date'])"
   ]
  },
  {
   "cell_type": "code",
   "execution_count": 42,
   "metadata": {
    "execution": {
     "iopub.execute_input": "2024-07-20T04:20:40.596617Z",
     "iopub.status.busy": "2024-07-20T04:20:40.596378Z",
     "iopub.status.idle": "2024-07-20T04:20:40.761079Z",
     "shell.execute_reply": "2024-07-20T04:20:40.760239Z"
    }
   },
   "outputs": [],
   "source": [
    "df.to_csv(DATA_FOLDER_CACHE + \"WESCO.csv\")"
   ]
  },
  {
   "cell_type": "code",
   "execution_count": 43,
   "metadata": {},
   "outputs": [
    {
     "name": "stdout",
     "output_type": "stream",
     "text": [
      "<class 'pandas.core.frame.DataFrame'>\n",
      "RangeIndex: 109 entries, 0 to 108\n",
      "Data columns (total 9 columns):\n",
      " #   Column         Non-Null Count  Dtype         \n",
      "---  ------         --------------  -----         \n",
      " 0   Date           109 non-null    datetime64[ns]\n",
      " 1   pm2_5_avg_100  109 non-null    float64       \n",
      " 2   pm2_5_avg_101  109 non-null    float64       \n",
      " 3   pm2_5_avg_102  109 non-null    float64       \n",
      " 4   pm2_5_avg_103  109 non-null    float64       \n",
      " 5   status_100     109 non-null    int64         \n",
      " 6   status_101     109 non-null    int64         \n",
      " 7   status_102     109 non-null    int64         \n",
      " 8   status_103     109 non-null    int64         \n",
      "dtypes: datetime64[ns](1), float64(4), int64(4)\n",
      "memory usage: 7.8 KB\n"
     ]
    }
   ],
   "source": [
    "df.info()"
   ]
  }
 ],
 "metadata": {
  "kernelspec": {
   "display_name": "base",
   "language": "python",
   "name": "python3"
  },
  "language_info": {
   "codemirror_mode": {
    "name": "ipython",
    "version": 3
   },
   "file_extension": ".py",
   "mimetype": "text/x-python",
   "name": "python",
   "nbconvert_exporter": "python",
   "pygments_lexer": "ipython3",
   "version": "3.10.16"
  }
 },
 "nbformat": 4,
 "nbformat_minor": 2
}
