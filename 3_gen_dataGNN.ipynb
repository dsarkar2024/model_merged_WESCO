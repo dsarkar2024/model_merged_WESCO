{
 "cells": [
  {
   "cell_type": "code",
   "execution_count": 3,
   "metadata": {
    "execution": {
     "iopub.execute_input": "2024-07-20T04:22:45.287504Z",
     "iopub.status.busy": "2024-07-20T04:22:45.286810Z",
     "iopub.status.idle": "2024-07-20T04:22:46.557879Z",
     "shell.execute_reply": "2024-07-20T04:22:46.556986Z"
    }
   },
   "outputs": [],
   "source": [
    "import pandas as pd\n",
    "import numpy as np\n",
    "from tqdm import tqdm\n",
    "from sklearn.preprocessing import StandardScaler\n",
    "import networkx as nx\n",
    "import matplotlib.pyplot as plt\n",
    "import ast"
   ]
  },
  {
   "cell_type": "code",
   "execution_count": 4,
   "metadata": {},
   "outputs": [],
   "source": [
    "PARENT = \"\"\n",
    "DATA_FOLDER = PARENT + \"data_WESCO/\"\n",
    "DATA_FOLDER_CACHE = DATA_FOLDER + 'cache/'\n",
    "T = 5"
   ]
  },
  {
   "cell_type": "code",
   "execution_count": 5,
   "metadata": {
    "execution": {
     "iopub.execute_input": "2024-07-20T04:22:46.569149Z",
     "iopub.status.busy": "2024-07-20T04:22:46.568438Z",
     "iopub.status.idle": "2024-07-20T04:22:47.149540Z",
     "shell.execute_reply": "2024-07-20T04:22:47.148437Z"
    }
   },
   "outputs": [],
   "source": [
    "with open(DATA_FOLDER_CACHE + 'new_X.npy', 'rb') as f:\n",
    "    X = np.load(f)"
   ]
  },
  {
   "cell_type": "code",
   "execution_count": 6,
   "metadata": {
    "execution": {
     "iopub.execute_input": "2024-07-20T04:22:47.153783Z",
     "iopub.status.busy": "2024-07-20T04:22:47.153457Z",
     "iopub.status.idle": "2024-07-20T04:22:47.159728Z",
     "shell.execute_reply": "2024-07-20T04:22:47.158831Z"
    }
   },
   "outputs": [],
   "source": [
    "def buildAdjacencyMatrix(rows, cols):\n",
    "    \n",
    "    grid_graph = nx.grid_2d_graph(rows, cols)  ## connect all cells\n",
    "\n",
    "    for u, v in grid_graph.edges():\n",
    "        grid_graph[u][v]['weight'] = 1\n",
    "    \n",
    "    # for i in range(rows):\n",
    "    #     for j in range(cols):\n",
    "    #         if i > 0 and j > 0:\n",
    "    #             grid_graph.add_edge((i, j), (i-1, j-1))  # top-left diagonal\n",
    "    #         if i > 0 and j < cols - 1:\n",
    "    #             grid_graph.add_edge((i, j), (i-1, j+1))  # top-right diagonal\n",
    "    #         if i < rows - 1 and j > 0:\n",
    "    #             grid_graph.add_edge((i, j), (i+1, j-1))  # bottom-left diagonal\n",
    "    #         if i < rows - 1 and j < cols - 1:\n",
    "    #             grid_graph.add_edge((i, j), (i+1, j+1))  # bottom-right diagonal\n",
    "\n",
    "    def add_walls(grid_graph):\n",
    "\n",
    "        with open(DATA_FOLDER_CACHE + 'walls.txt', 'r') as file:\n",
    "            lines = file.readlines()\n",
    "            filtered_lines = [l for l in lines if \"#\" not in l] \n",
    "            edges_to_remove = [ast.literal_eval(line.strip()) for line in filtered_lines]\n",
    "        \n",
    "        for n1, n2 in edges_to_remove:\n",
    "            grid_graph.remove_edge(n1, n2)\n",
    "            #grid_graph[n1][n2]['weight'] = 0.2\n",
    "\n",
    "    add_walls(grid_graph)\n",
    "    adj_matrix = nx.to_numpy_array(grid_graph)\n",
    "    \n",
    "    # G = nx.from_numpy_array(adj_matrix)\n",
    "    # pos = {(i * cols + j): (j, -i) for i in range(rows) for j in range(cols)}\n",
    "    # nx.draw(G, pos, with_labels=True, node_color=\"lightblue\", node_size=300, font_size=8)\n",
    "    # plt.show()\n",
    "    \n",
    "    # print(adj_matrix.shape)\n",
    "    return adj_matrix"
   ]
  },
  {
   "cell_type": "code",
   "execution_count": 7,
   "metadata": {
    "execution": {
     "iopub.execute_input": "2024-07-20T04:22:47.162787Z",
     "iopub.status.busy": "2024-07-20T04:22:47.162537Z",
     "iopub.status.idle": "2024-07-20T04:22:47.175978Z",
     "shell.execute_reply": "2024-07-20T04:22:47.175044Z"
    }
   },
   "outputs": [
    {
     "data": {
      "text/plain": [
       "array([[0., 1., 0., ..., 0., 0., 0.],\n",
       "       [1., 0., 1., ..., 0., 0., 0.],\n",
       "       [0., 1., 0., ..., 0., 0., 0.],\n",
       "       ...,\n",
       "       [0., 0., 0., ..., 0., 1., 0.],\n",
       "       [0., 0., 0., ..., 1., 0., 1.],\n",
       "       [0., 0., 0., ..., 0., 1., 0.]])"
      ]
     },
     "execution_count": 7,
     "metadata": {},
     "output_type": "execute_result"
    }
   ],
   "source": [
    "buildAdjacencyMatrix(8, 25)"
   ]
  },
  {
   "cell_type": "code",
   "execution_count": 8,
   "metadata": {
    "execution": {
     "iopub.execute_input": "2024-07-20T04:22:47.213995Z",
     "iopub.status.busy": "2024-07-20T04:22:47.213710Z",
     "iopub.status.idle": "2024-07-20T04:22:47.220063Z",
     "shell.execute_reply": "2024-07-20T04:22:47.219072Z"
    }
   },
   "outputs": [],
   "source": [
    "def getTimeSeriesDataFromCell(tensor, i, j):\n",
    "    cell = tensor[:, :, :, i, j] #get all samples, get all timesteps, get all features of cell i,j\n",
    "    cell_t = np.transpose(cell, (0, 2, 1)) # result is an array shaped (sample, feature, time)\n",
    "    return cell_t\n",
    "\n",
    "def buildFeatureMatrix(tensor):  \n",
    "    assert len(tensor.shape) == 5 \n",
    "    samples, timesteps, features, rows, cols  = tensor.shape\n",
    "    ## a feature matrix with size (number of nodes, number of features, timesteps)\n",
    "    ## e.g fM[0,0] extracts the timeseries corresponding to feature 0 for node 0\n",
    "    nodes = rows * cols\n",
    "    featureMatrixes = np.empty((nodes, samples, features, timesteps))\n",
    "    for i in range(rows):\n",
    "        for j in range(cols):\n",
    "            n = i * cols + j\n",
    "            featureMatrixes[n] = getTimeSeriesDataFromCell(tensor, i, j)\n",
    "\n",
    "    #print(featureMatrixes.shape)\n",
    "    featureMatrixes = np.transpose(featureMatrixes, (1, 3, 0, 2))\n",
    "    print(featureMatrixes.shape)\n",
    "    return featureMatrixes        "
   ]
  },
  {
   "cell_type": "code",
   "execution_count": 9,
   "metadata": {
    "execution": {
     "iopub.execute_input": "2024-07-20T04:22:47.223679Z",
     "iopub.status.busy": "2024-07-20T04:22:47.222855Z",
     "iopub.status.idle": "2024-07-20T04:22:49.140139Z",
     "shell.execute_reply": "2024-07-20T04:22:49.139018Z"
    }
   },
   "outputs": [
    {
     "name": "stdout",
     "output_type": "stream",
     "text": [
      "(4409, 5, 200, 16)\n"
     ]
    }
   ],
   "source": [
    "X_no_loc = X[:, :, :, :, :] ## get rid of the location slice\n",
    "adjMatrix = buildAdjacencyMatrix(8, 25)\n",
    "featureMatrixes = buildFeatureMatrix(X_no_loc)  #(READINGS, 5, 200, 16)\n",
    "\n",
    "samples, timesteps, features, rows, cols  = X_no_loc.shape"
   ]
  },
  {
   "cell_type": "code",
   "execution_count": 10,
   "metadata": {
    "execution": {
     "iopub.execute_input": "2024-07-20T04:22:49.143840Z",
     "iopub.status.busy": "2024-07-20T04:22:49.143552Z",
     "iopub.status.idle": "2024-07-20T04:22:49.701065Z",
     "shell.execute_reply": "2024-07-20T04:22:49.700105Z"
    }
   },
   "outputs": [],
   "source": [
    "# Save adj to pickle file.\n",
    "import pickle\n",
    "\n",
    "adjMatrix = adjMatrix.astype(np.float32)\n",
    "\n",
    "adj_matrix_file = DATA_FOLDER_CACHE + \"/adj_mx.pkl\"\n",
    "with open(adj_matrix_file, 'wb') as f:\n",
    "    pickle.dump([range(200), {i: i for i in range(200)}, adjMatrix], f, protocol=2)\n",
    "\n",
    "featureMatrixes = featureMatrixes.astype(np.float32)\n"
   ]
  },
  {
   "cell_type": "code",
   "execution_count": 11,
   "metadata": {},
   "outputs": [
    {
     "data": {
      "text/plain": [
       "(4409, 5, 200, 16)"
      ]
     },
     "execution_count": 11,
     "metadata": {},
     "output_type": "execute_result"
    }
   ],
   "source": [
    "featureMatrixes.shape"
   ]
  },
  {
   "cell_type": "code",
   "execution_count": 12,
   "metadata": {},
   "outputs": [],
   "source": [
    "with open(DATA_FOLDER_CACHE + 'new_y.npy', 'rb') as f:\n",
    "    y = np.load(f)"
   ]
  },
  {
   "cell_type": "code",
   "execution_count": 13,
   "metadata": {},
   "outputs": [
    {
     "data": {
      "text/plain": [
       "(4409, 4)"
      ]
     },
     "execution_count": 13,
     "metadata": {},
     "output_type": "execute_result"
    }
   ],
   "source": [
    "## recall notebook one: how where we defining y? 100, 101, 102, 103\n",
    "\"\"\"\n",
    "y[:, 0] represents readings of sensor 100\n",
    "...\n",
    "y[:, 3] represents readings of sensor 103\n",
    "\"\"\"\n",
    "y.shape"
   ]
  },
  {
   "cell_type": "code",
   "execution_count": 14,
   "metadata": {},
   "outputs": [],
   "source": [
    "sensor_indices = {\"davinci\": 24, \"metcalfe\": 78, \"showroom\": 155, \"theater\": 161}\n",
    "reshaped_y = np.zeros((samples, 1, rows * cols, 1)) \n",
    "for i, sensor in enumerate(sensor_indices.values()):\n",
    "    reshaped_y[:, 0, sensor, 0] = y[:, i]\n"
   ]
  },
  {
   "cell_type": "code",
   "execution_count": 15,
   "metadata": {
    "execution": {
     "iopub.execute_input": "2024-07-20T04:22:49.728246Z",
     "iopub.status.busy": "2024-07-20T04:22:49.728007Z",
     "iopub.status.idle": "2024-07-20T04:22:49.733994Z",
     "shell.execute_reply": "2024-07-20T04:22:49.733054Z"
    }
   },
   "outputs": [],
   "source": [
    "fS = featureMatrixes.shape\n",
    "yS = y.shape\n",
    "\n",
    "TRAINING_SPLIT = 0.75\n",
    "training_samples = int(featureMatrixes.shape[0] * TRAINING_SPLIT)\n",
    "X_train, y_train = featureMatrixes[:training_samples], y[:training_samples]\n",
    "X_test, y_test = featureMatrixes[training_samples:], y[training_samples:]\n",
    "X_val, y_val = X_test, y_test\n",
    "\n",
    "train_filepath = DATA_FOLDER_CACHE + f\"new_model_train.npz\"\n",
    "test_filepath = DATA_FOLDER_CACHE + f\"new_model_test.npz\"\n",
    "val_filepath = DATA_FOLDER_CACHE + f\"new_model_val.npz\"\n",
    "\n",
    "np.savez_compressed(\n",
    "        train_filepath,\n",
    "        x=X_train,\n",
    "        y=y_train\n",
    ")\n",
    "\n",
    "np.savez_compressed(\n",
    "        test_filepath,\n",
    "        x=X_test,\n",
    "        y=y_test\n",
    ")\n",
    "\n",
    "np.savez_compressed(\n",
    "        val_filepath,\n",
    "        x=X_val,\n",
    "        y=y_val\n",
    ")"
   ]
  }
 ],
 "metadata": {
  "kernelspec": {
   "display_name": "base",
   "language": "python",
   "name": "python3"
  },
  "language_info": {
   "codemirror_mode": {
    "name": "ipython",
    "version": 3
   },
   "file_extension": ".py",
   "mimetype": "text/x-python",
   "name": "python",
   "nbconvert_exporter": "python",
   "pygments_lexer": "ipython3",
   "version": "3.10.16"
  }
 },
 "nbformat": 4,
 "nbformat_minor": 2
}
